{
  "nbformat": 4,
  "nbformat_minor": 0,
  "metadata": {
    "colab": {
      "name": "convex_optimization.ipynb",
      "provenance": [],
      "collapsed_sections": []
    },
    "kernelspec": {
      "display_name": "Python 3",
      "name": "python3"
    }
  },
  "cells": [
    {
      "cell_type": "markdown",
      "metadata": {
        "id": "l-pw-PunLXAi"
      },
      "source": [
        "### Topic: Convex optimization\n",
        "### Author: Ivana Benova\n",
        "### Last edits: 03.05.2021"
      ]
    },
    {
      "cell_type": "code",
      "metadata": {
        "id": "SS4mWgd4qSLa"
      },
      "source": [
        "#importation of libraries\n",
        "import cvxpy as cp\n",
        "import numpy as np\n",
        "import sympy as sp\n",
        "import matplotlib.pyplot as plt\n",
        "import pandas as pd\n",
        "from scipy.spatial import distance_matrix\n",
        "import time"
      ],
      "execution_count": 1,
      "outputs": []
    },
    {
      "cell_type": "markdown",
      "metadata": {
        "id": "qTR_4nOhpdAm"
      },
      "source": [
        "### Definition of functions"
      ]
    },
    {
      "cell_type": "code",
      "metadata": {
        "id": "y_8ZDyJlWK1C"
      },
      "source": [
        "'''Genration of population of zones between 100 and max_size\n",
        "    Inputs: type_OD -string, according to the characteristic of population, OD_random is number\n",
        "                     generated from uniform distribution, O=D=1000 is constant population of 1000,\n",
        "                     O=D_linear is linear growth of population,\n",
        "            max_size - integer, maximal number of inhabitants of zone, \n",
        "            num_cities - integer, number of zones,\n",
        "            OD_relation - string, according to characteristic of population, equal is O=D, \n",
        "            start_O=100, \n",
        "            growth_0=200, \n",
        "            start_D=400, \n",
        "            growth_D=50 - parameters in case of linar growth of population\n",
        "\n",
        "    Outputs:O - numpy array, vector of origin,\n",
        "            D - numpy array, vector of destination'''\n",
        "def population_of_cities(type_OD, max_size, num_cities, OD_relation, start_O=100, growth_O=200, start_D=400, growth_D=50):\n",
        "    if type_OD == 'OD_random':\n",
        "        O = np.sort(np.random.randint(100,max_size, num_cities))\n",
        "        if OD_relation == 'equal':\n",
        "            D = O.copy()\n",
        "        else:\n",
        "            D = np.sort(np.random.randint(100,max_size, num_cities))\n",
        "            D = D*(O.sum()/D.sum())\n",
        "    if type_OD == 'O=D=1000':\n",
        "        O = 1000*np.ones(num_cities)\n",
        "        D = O.copy()\n",
        "    if type_OD == 'O=D_linear':\n",
        "        O = start_O+growth_O*np.arange(num_cities)\n",
        "        if OD_relation == 'equal':\n",
        "            D = O.copy()\n",
        "        else:\n",
        "            D = start_D + growth_D*np.arange(num_cities)\n",
        "            D = D*(O.sum()/D.sum())\n",
        "    return O[np.newaxis],D[np.newaxis]"
      ],
      "execution_count": 2,
      "outputs": []
    },
    {
      "cell_type": "code",
      "metadata": {
        "id": "4MSPeGvkWJgM"
      },
      "source": [
        "'''Generation of coordinates with constant spacing on the streight line or with growing spacing on the streight\n",
        "line or with random distribution on the streight line or randomly distributed over space\n",
        "    Inputs: seed - integer, random seed,\n",
        "            num_cities - integer, number of zones,\n",
        "            type - string, type of generation, konstant is constant spacing on the streight line,\n",
        "            zvacsuj is growing spacing on the streight line, nahodne_x is x-coordinate randomly generated form\n",
        "            normal distribution y- coordinate is constant, nahodne is normal distribution of both coordinates, \n",
        "            coef - float, constant spacing between zones, \n",
        "            distance_of_cities - float, distance between zones that is aritmeticaly growing, \n",
        "            sigma=50 - sigma of normal distribution,\n",
        "            \n",
        "    Outputs:x-numpy array, vector of x-coordinates,\n",
        "            y-numpy array, vector of y-coordinates'''\n",
        "def generation_of_coordinates(seed, num_cities, type, coef, distance_of_cities, sigma=50):\n",
        "    np.random.seed(seed)\n",
        "    if type == 'konstant':\n",
        "        x = np.array([0])\n",
        "        y = np.zeros(num_cities)\n",
        "        for i in np.arange(num_cities-1):\n",
        "            x = np.append(x,x[-1]+coef)\n",
        "    if type == 'zvacsuj':\n",
        "        x = np.array([0])\n",
        "        y = np.zeros(num_cities)\n",
        "        for i in np.arange(num_cities-1):\n",
        "            x = np.append(x,x[-1]+distance_of_cities*(i+1))\n",
        "    if type == 'nahodne_x':\n",
        "        x = np.random.normal(0, sigma, num_cities)\n",
        "        y = np.zeros(num_cities)\n",
        "    if type == 'nahodne':\n",
        "        x = np.random.normal(0, sigma, num_cities)\n",
        "        y = np.random.normal(0, sigma, num_cities)\n",
        "    return x,y\n",
        "  "
      ],
      "execution_count": 3,
      "outputs": []
    },
    {
      "cell_type": "code",
      "metadata": {
        "id": "Lmk2OnxCWDZm"
      },
      "source": [
        "'''Calculation of distance matrix using Euclidean norm\n",
        "    Inputs: x- numpy array, vector of x-coordinates,\n",
        "            y- numpy array, vector of y-coordinates,\n",
        "            \n",
        "    Outputs:d- numpy array, distance matrix'''\n",
        "def distance_matrix_d(x,y):\n",
        "    df = pd.DataFrame([x,y]).T\n",
        "    d=distance_matrix(df.values, df.values)\n",
        "    return d"
      ],
      "execution_count": 4,
      "outputs": []
    },
    {
      "cell_type": "markdown",
      "metadata": {
        "id": "B8qes6HxdUC8"
      },
      "source": [
        "### Simulations\n",
        "  "
      ]
    },
    {
      "cell_type": "code",
      "metadata": {
        "id": "V2iIlUrfQHgx"
      },
      "source": [
        "seed = 123\n",
        "n = 10\n",
        "max_size = 2000\n",
        "type_coords = 'konstant'\n",
        "#type_coords = 'zvacsuj'\n",
        "#type_coords = 'nahodne'\n",
        "coef = 1\n",
        "distance_of_cities = 0.8\n",
        "wanted_avg_length = 0.1\n",
        "type_OD = 'O=D=1000'\n",
        "#type_OD = 'O=D_linear'\n",
        "#type_OD = 'O=D_random'\n",
        "OD_relation = 'equal'"
      ],
      "execution_count": 5,
      "outputs": []
    },
    {
      "cell_type": "code",
      "metadata": {
        "id": "6qIuKbELbZwR"
      },
      "source": [
        "# random seed\n",
        "np.random.seed(seed)"
      ],
      "execution_count": 6,
      "outputs": []
    },
    {
      "cell_type": "code",
      "metadata": {
        "id": "onEWyXMJ7gH3"
      },
      "source": [
        "# coordinates\n",
        "x,y = generation_of_coordinates(seed, n, type_coords, coef, distance_of_cities)"
      ],
      "execution_count": 7,
      "outputs": []
    },
    {
      "cell_type": "code",
      "metadata": {
        "id": "QdXZAGsSLTPH"
      },
      "source": [
        "stlpec = np.ones((n,1))\n",
        "riadok = np.ones((1,n))\n",
        "\n",
        "#distance matrix\n",
        "d = distance_matrix_d(x,y)"
      ],
      "execution_count": 8,
      "outputs": []
    },
    {
      "cell_type": "code",
      "metadata": {
        "id": "sl7rkSvZFTLh"
      },
      "source": [
        "# origin and destination vectors\n",
        "O, D = population_of_cities(type_OD, max_size, n, OD_relation)"
      ],
      "execution_count": 9,
      "outputs": []
    },
    {
      "cell_type": "code",
      "metadata": {
        "colab": {
          "base_uri": "https://localhost:8080/",
          "height": 297
        },
        "id": "OoRLBviCRL6V",
        "outputId": "3fc882c5-0b2f-4007-9731-c9e61afb2a15"
      },
      "source": [
        "# map of zones\n",
        "plt.figure(figsize = (8,4))\n",
        "plt.scatter(x,y, color = 'red', s = O/10, alpha = 0.5, label = 'city origin')\n",
        "plt.scatter(x,y, color = 'blue', s = D/10, alpha = 0.5, label = 'city destination')\n",
        "plt.xlabel(r\"x-coordinate\", size = 15)\n",
        "plt.ylabel(r\"y-coordinate\", size = 15)\n",
        "plt.legend( bbox_to_anchor=(1.05, 1), loc='upper left', fontsize=15)\n",
        "plt.xticks(fontsize=15)\n",
        "plt.yticks(ticks = [0], fontsize=15)\n",
        "plt.tight_layout()"
      ],
      "execution_count": 10,
      "outputs": [
        {
          "output_type": "display_data",
          "data": {
            "image/png": "[encoded data removed]",
            "text/plain": [
              "<Figure size 576x288 with 1 Axes>"
            ]
          },
          "metadata": {
            "tags": [],
            "needs_background": "light"
          }
        }
      ]
    },
    {
      "cell_type": "code",
      "metadata": {
        "colab": {
          "base_uri": "https://localhost:8080/",
          "height": 286
        },
        "id": "4L5wt_7Y9fBu",
        "outputId": "1f919ae7-2ce7-4b51-d7b9-48802d186fe9"
      },
      "source": [
        "# distance matrix\n",
        "plt.imshow(d)\n",
        "plt.colorbar()"
      ],
      "execution_count": null,
      "outputs": [
        {
          "output_type": "execute_result",
          "data": {
            "text/plain": [
              "<matplotlib.colorbar.Colorbar at 0x7f6daa9f45d0>"
            ]
          },
          "metadata": {
            "tags": []
          },
          "execution_count": 11
        },
        {
          "output_type": "display_data",
          "data": {
            "image/png": "[encoded data removed]",
            "text/plain": [
              "<Figure size 432x288 with 2 Axes>"
            ]
          },
          "metadata": {
            "tags": [],
            "needs_background": "light"
          }
        }
      ]
    },
    {
      "cell_type": "code",
      "metadata": {
        "id": "DBmnyenoqnPx"
      },
      "source": [
        "# variable for optimization\n",
        "TR = cp.Variable((n, n))"
      ],
      "execution_count": null,
      "outputs": []
    },
    {
      "cell_type": "code",
      "metadata": {
        "id": "-_ZZK1HUC-9t"
      },
      "source": [
        "# constraints for optimization\n",
        "constraints = [riadok @ TR == O,\n",
        "               TR @ stlpec == D.T, \n",
        "               cp.sum(cp.multiply(d,TR))/cp.sum(O) == wanted_avg_length]"
      ],
      "execution_count": null,
      "outputs": []
    },
    {
      "cell_type": "code",
      "metadata": {
        "id": "Mu8xfCBVDBAM"
      },
      "source": [
        "# objective function for optimization\n",
        "obj = cp.Maximize(cp.sum(cp.entr(TR)+TR))"
      ],
      "execution_count": null,
      "outputs": []
    },
    {
      "cell_type": "code",
      "metadata": {
        "colab": {
          "base_uri": "https://localhost:8080/"
        },
        "id": "bxJWId4WDC2n",
        "outputId": "14cab019-e852-487a-da14-2aca30e6873f"
      },
      "source": [
        "# solution\n",
        "start_time = time.time()\n",
        "prob = cp.Problem(obj, constraints)\n",
        "prob.solve(solver=cp.ECOS, verbose = True)  # Returns the optimal value.\n",
        "end_time = time.time()\n",
        "print(end_time-start_time)\n",
        "print(\"status:\", prob.status)\n",
        "print(\"optimal value\", prob.value)\n"
      ],
      "execution_count": null,
      "outputs": [
        {
          "output_type": "stream",
          "text": [
            "\n",
            "ECOS 2.0.7 - (C) embotech GmbH, Zurich Switzerland, 2012-15. Web: www.embotech.com/ECOS\n",
            "\n",
            "It     pcost       dcost      gap   pres   dres    k/t    mu     step   sigma     IR    |   BT\n",
            " 0  +0.000e+00  -6.561e+01  +3e+02  1e+00  4e-01  1e+00  1e+00    ---    ---    0  0  - |  -  - \n",
            " 1  +8.301e+02  +7.684e+02  +7e+01  1e+00  4e-01  4e+00  2e-01  0.7833  9e-03   1  1  1 |  1  1\n",
            " 2  +1.634e+03  +1.576e+03  +4e+01  1e+00  4e-01  8e+00  1e-01  0.7833  4e-01   1  1  1 |  6  1\n",
            " 3  +2.407e+03  +2.353e+03  +2e+01  1e+00  4e-01  1e+01  8e-02  0.9791  7e-01   1  1  1 |  9  0\n",
            " 4  +1.059e+04  +1.058e+04  +5e+00  1e+00  4e-01  5e+01  2e-02  0.7833  9e-03   1  1  1 |  1  1\n",
            " 5  +1.461e+04  +1.461e+04  +4e+00  9e-01  3e-01  6e+01  1e-02  0.5013  4e-01   1  1  1 |  6  3\n",
            " 6  +2.160e+04  +2.161e+04  +2e+00  7e-01  3e-01  6e+01  7e-03  0.5013  2e-01   2  1  2 |  4  3\n",
            " 7  +2.553e+04  +2.554e+04  +2e+00  6e-01  3e-01  5e+01  5e-03  0.4010  4e-01   1  1  2 |  6  4\n",
            " 8  +2.814e+04  +2.815e+04  +1e+00  5e-01  3e-01  5e+01  4e-03  0.9791  8e-01   2  2  1 | 12  0\n",
            " 9  +3.061e+04  +3.063e+04  +1e+00  5e-01  3e-01  5e+01  3e-03  0.9791  8e-01   2  1  1 | 12  0\n",
            "10  +3.463e+04  +3.465e+04  +7e-01  4e-01  2e-01  4e+01  2e-03  0.7833  7e-01   2  1  2 |  9  1\n",
            "11  +3.587e+04  +3.589e+04  +6e-01  4e-01  2e-01  5e+01  2e-03  0.9791  9e-01   2  1  1 | 15  0\n",
            "12  +4.079e+04  +4.081e+04  +4e-01  3e-01  1e-01  4e+01  1e-03  0.5013  3e-01   2  2  1 |  5  3\n",
            "13  +4.187e+04  +4.189e+04  +4e-01  3e-01  1e-01  4e+01  1e-03  0.9791  9e-01   2  2  1 | 15  0\n",
            "14  +4.578e+04  +4.579e+04  +2e-01  2e-01  9e-02  3e+01  8e-04  0.5013  3e-01   1  1  2 |  5  3\n",
            "15  +4.869e+04  +4.870e+04  +1e-01  1e-01  6e-02  2e+01  5e-04  0.9791  7e-01   2  1  1 |  9  0\n",
            "16  +5.125e+04  +5.126e+04  +9e-02  9e-02  4e-02  2e+01  3e-04  0.9791  6e-01   1  2  1 |  8  0\n",
            "17  +5.206e+04  +5.207e+04  +7e-02  7e-02  3e-02  1e+01  2e-04  0.9791  8e-01   1  1  1 | 11  0\n",
            "18  +5.340e+04  +5.340e+04  +4e-02  4e-02  2e-02  8e+00  1e-04  0.6266  3e-01   2  1  1 |  5  2\n",
            "19  +5.386e+04  +5.387e+04  +3e-02  3e-02  1e-02  6e+00  9e-05  0.9791  7e-01   1  1  1 | 10  0\n",
            "20  +5.459e+04  +5.459e+04  +1e-02  1e-02  6e-03  3e+00  4e-05  0.6266  1e-01   1  1  1 |  3  2\n",
            "21  +5.483e+04  +5.483e+04  +7e-03  9e-03  3e-03  2e+00  2e-05  0.9791  6e-01   1  1  1 |  8  0\n",
            "22  +5.510e+04  +5.510e+04  +2e-03  2e-03  9e-04  5e-01  6e-06  0.7833  5e-02   0  0  1 |  2  1\n",
            "23  +5.516e+04  +5.516e+04  +6e-04  7e-04  3e-04  2e-01  2e-06  0.9791  3e-01   1  1  1 |  5  0\n",
            "24  +5.518e+04  +5.518e+04  +2e-04  3e-04  1e-04  6e-02  7e-07  0.6266  5e-02   1  0  0 |  2  2\n",
            "25  +5.519e+04  +5.519e+04  +5e-05  7e-05  3e-05  1e-02  2e-07  0.7833  1e-02   1  1  0 |  1  1\n",
            "26  +5.519e+04  +5.519e+04  +2e-05  3e-05  1e-05  6e-03  7e-08  0.6266  5e-02   1  0  1 |  2  2\n",
            "27  +5.519e+04  +5.519e+04  +5e-06  6e-06  2e-06  1e-03  2e-08  0.7833  9e-03   0  0  0 |  1  1\n",
            "28  +5.519e+04  +5.519e+04  +2e-06  2e-06  1e-06  5e-04  6e-09  0.6266  5e-02   1  1  1 |  2  2\n",
            "29  +5.519e+04  +5.519e+04  +4e-07  5e-07  2e-07  1e-04  1e-09  0.7833  9e-03   0  1  0 |  1  1\n",
            "30  +5.519e+04  +5.519e+04  +2e-07  2e-07  9e-08  5e-05  5e-10  0.6266  5e-02   1  1  1 |  2  2\n",
            "31  +5.519e+04  +5.519e+04  +4e-08  5e-08  2e-08  1e-05  1e-10  0.7833  9e-03   0  0  0 |  1  1\n",
            "32  +5.519e+04  +5.519e+04  +1e-08  2e-08  8e-09  4e-06  5e-11  0.6266  5e-02   1  0  0 |  2  2\n",
            "33  +5.519e+04  +5.519e+04  +3e-09  4e-09  2e-09  1e-06  1e-11  0.7833  9e-03   0  0  0 |  1  1\n",
            "\n",
            "OPTIMAL (within feastol=4.5e-09, reltol=6.3e-14, abstol=3.5e-09).\n",
            "Runtime: 0.010719 seconds.\n",
            "\n",
            "0.030514240264892578\n",
            "status: optimal\n",
            "optimal value -55189.340397602784\n"
          ],
          "name": "stdout"
        }
      ]
    },
    {
      "cell_type": "code",
      "metadata": {
        "colab": {
          "base_uri": "https://localhost:8080/",
          "height": 282
        },
        "id": "8EppFZzfLrvM",
        "outputId": "be331059-e7ae-4cc9-f957-ac5b8305dd95"
      },
      "source": [
        "# OD matrix generated by convex optimization\n",
        "plt.imshow(TR.value)\n",
        "plt.colorbar()"
      ],
      "execution_count": null,
      "outputs": [
        {
          "output_type": "execute_result",
          "data": {
            "text/plain": [
              "<matplotlib.colorbar.Colorbar at 0x7fce53b44490>"
            ]
          },
          "metadata": {
            "tags": []
          },
          "execution_count": 34
        },
        {
          "output_type": "display_data",
          "data": {
            "image/png": "[encoded data removed]",
            "text/plain": [
              "<Figure size 432x288 with 2 Axes>"
            ]
          },
          "metadata": {
            "tags": [],
            "needs_background": "light"
          }
        }
      ]
    },
    {
      "cell_type": "code",
      "metadata": {
        "colab": {
          "base_uri": "https://localhost:8080/"
        },
        "id": "-LyLS1k85xcN",
        "outputId": "aa86dd74-046a-4844-e28b-2a47efc17bb6"
      },
      "source": [
        "# the mean trip length\n",
        "np.sum(TR.value*d)/np.sum(TR.value)"
      ],
      "execution_count": null,
      "outputs": [
        {
          "output_type": "execute_result",
          "data": {
            "text/plain": [
              "0.09999999999999971"
            ]
          },
          "metadata": {
            "tags": []
          },
          "execution_count": 35
        }
      ]
    },
    {
      "cell_type": "code",
      "metadata": {
        "colab": {
          "base_uri": "https://localhost:8080/"
        },
        "id": "yJPKu4NYjAw3",
        "outputId": "6cba6b6b-53b8-44c8-9e49-5b0c2b4cb700"
      },
      "source": [
        "# convergence rate\n",
        "abs(TR.value.sum(axis=1)-O).max()"
      ],
      "execution_count": null,
      "outputs": [
        {
          "output_type": "execute_result",
          "data": {
            "text/plain": [
              "4.529483589976735e-06"
            ]
          },
          "metadata": {
            "tags": []
          },
          "execution_count": 36
        }
      ]
    },
    {
      "cell_type": "code",
      "metadata": {
        "colab": {
          "base_uri": "https://localhost:8080/"
        },
        "id": "ApFFPtVzRfRE",
        "outputId": "cb8a5657-d697-49dd-9f73-b3c1d9085da7"
      },
      "source": [
        "# convergence rate\n",
        "abs(TR.value.sum(axis=0)-D).max()"
      ],
      "execution_count": null,
      "outputs": [
        {
          "output_type": "execute_result",
          "data": {
            "text/plain": [
              "4.529483589976735e-06"
            ]
          },
          "metadata": {
            "tags": []
          },
          "execution_count": 37
        }
      ]
    },
    {
      "cell_type": "markdown",
      "metadata": {
        "id": "kP0Aj-LALlYP"
      },
      "source": [
        "### Scaling and simulations"
      ]
    },
    {
      "cell_type": "code",
      "metadata": {
        "id": "FBXJ0AVwrW9j"
      },
      "source": [
        "# constant population and constant spacing of zones on streight line\n",
        "seed = 123\n",
        "n = 10\n",
        "max_size = 2000\n",
        "type_coords = 'konstant'\n",
        "coef = 1\n",
        "distance_of_cities = 0.8\n",
        "wanted_avg_length = 2\n",
        "type_OD = 'O=D=1000'\n",
        "OD_relation = 'equal'"
      ],
      "execution_count": null,
      "outputs": []
    },
    {
      "cell_type": "code",
      "metadata": {
        "colab": {
          "base_uri": "https://localhost:8080/"
        },
        "id": "9i7g4D5T2Fwm",
        "outputId": "74d40328-d5b6-4a36-f458-9f8faf97a5a5"
      },
      "source": [
        "# calculation of OD matrices for different number of zones\n",
        "time_cvx = []\n",
        "mean_T = []\n",
        "length = []\n",
        "entropy = []\n",
        "j = 0\n",
        "for a in np.array([10, 20, 40, 50, 100, 200, 500, 750, 1000, 1500]):\n",
        "# velkost miest(pocet obyvatelov) \n",
        "    O, D = population_of_cities(type_OD, max_size, a, OD_relation)\n",
        "\n",
        "# rovnomerne sa zvacsujuca vzdialenost medzi mestami na priamke\n",
        "    x,y = generation_of_coordinates(seed, a, type_coords, coef, distance_of_cities)\n",
        "\n",
        "#   matica vzdialenosti (Euklidovska norma)\n",
        "    d = distance_matrix_d(x,y)\n",
        "    wanted_avg_length = np.sqrt(a)\n",
        "    stlpec = np.ones((a,1))\n",
        "    riadok = np.ones((1,a))\n",
        "# matica OD\n",
        "    TR = cp.Variable((a, a))\n",
        "\n",
        "    constraints = [riadok @ TR == O,\n",
        "               TR @ stlpec == D.T, \n",
        "               cp.sum(cp.multiply(d,TR))/cp.sum(O) == wanted_avg_length]\n",
        "    \n",
        "    obj = cp.Maximize(cp.sum(cp.entr(TR)+TR))\n",
        "    start_time = time.time()\n",
        "    prob = cp.Problem(obj, constraints)\n",
        "    prob.solve(solver = cp.ECOS)\n",
        " #   prob.solve(solver=cp.ECOS, abstol=1e-3, reltol = 1e-3, feastol = 1e-3, verbose = True)  # Returns the optimal value.\n",
        "    end_time = time.time()\n",
        "    print(\"status:\", prob.status)\n",
        "    print(end_time-start_time)\n",
        "    time_cvx.append(end_time-start_time)\n",
        "    mean_T.append(TR.value.mean())\n",
        "    length.append(np.sum(TR.value*d)/np.sum(TR.value))\n",
        "    entropy.append(prob.value)"
      ],
      "execution_count": null,
      "outputs": [
        {
          "output_type": "stream",
          "text": [
            "status: optimal\n",
            "0.04764819145202637\n",
            "status: optimal\n",
            "0.03979229927062988\n",
            "status: optimal\n",
            "0.13144207000732422\n",
            "status: optimal\n",
            "0.21955108642578125\n",
            "status: optimal\n",
            "1.1251606941223145\n",
            "status: optimal\n",
            "5.263031959533691\n",
            "status: optimal\n",
            "44.10571002960205\n",
            "status: optimal\n",
            "125.1362669467926\n",
            "status: optimal\n",
            "321.85312485694885\n",
            "status: optimal\n",
            "939.5307450294495\n"
          ],
          "name": "stdout"
        }
      ]
    },
    {
      "cell_type": "code",
      "metadata": {
        "colab": {
          "base_uri": "https://localhost:8080/"
        },
        "id": "bw0HR3wm3iGE",
        "outputId": "94895f62-0738-4e3f-a7a2-4511a082940d"
      },
      "source": [
        "time_cvx"
      ],
      "execution_count": null,
      "outputs": [
        {
          "output_type": "execute_result",
          "data": {
            "text/plain": [
              "[0.04764819145202637,\n",
              " 0.03979229927062988,\n",
              " 0.13144207000732422,\n",
              " 0.21955108642578125,\n",
              " 1.1251606941223145,\n",
              " 5.263031959533691,\n",
              " 44.10571002960205,\n",
              " 125.1362669467926,\n",
              " 321.85312485694885,\n",
              " 939.5307450294495]"
            ]
          },
          "metadata": {
            "tags": []
          },
          "execution_count": 17
        }
      ]
    },
    {
      "cell_type": "code",
      "metadata": {
        "colab": {
          "base_uri": "https://localhost:8080/"
        },
        "id": "vBFfD0tR8Bh3",
        "outputId": "26b3320d-47fd-471f-ba21-597d10bbfb5a"
      },
      "source": [
        "mean_T"
      ],
      "execution_count": null,
      "outputs": [
        {
          "output_type": "execute_result",
          "data": {
            "text/plain": [
              "[99.99999931634049,\n",
              " 49.999999717147546,\n",
              " 24.999999867983007,\n",
              " 19.99999993191272,\n",
              " 9.99999997003382,\n",
              " 4.999999954028888,\n",
              " 1.9999999802342041,\n",
              " 1.3333333280983009,\n",
              " 0.9999999924685282,\n",
              " 0.6666666654135186]"
            ]
          },
          "metadata": {
            "tags": []
          },
          "execution_count": 18
        }
      ]
    },
    {
      "cell_type": "code",
      "metadata": {
        "colab": {
          "base_uri": "https://localhost:8080/"
        },
        "id": "_69J3UCx8Zrc",
        "outputId": "552b960c-1bbf-4db3-9070-52de45426635"
      },
      "source": [
        "length"
      ],
      "execution_count": null,
      "outputs": [
        {
          "output_type": "execute_result",
          "data": {
            "text/plain": [
              "[3.1622776601683884,\n",
              " 4.472135954999574,\n",
              " 6.324555320336724,\n",
              " 7.0710678118654595,\n",
              " 9.999999999999963,\n",
              " 14.142135623731082,\n",
              " 22.360679774997564,\n",
              " 27.38612787525862,\n",
              " 31.622776601682276,\n",
              " 38.72983346207652]"
            ]
          },
          "metadata": {
            "tags": []
          },
          "execution_count": 19
        }
      ]
    },
    {
      "cell_type": "code",
      "metadata": {
        "colab": {
          "base_uri": "https://localhost:8080/"
        },
        "id": "Q261MeLT8d-w",
        "outputId": "fab05c15-a468-49c9-824b-35c73eeae970"
      },
      "source": [
        "entropy"
      ],
      "execution_count": null,
      "outputs": [
        {
          "output_type": "execute_result",
          "data": {
            "text/plain": [
              "[-36072.3377025398,\n",
              " -60864.64504280782,\n",
              " -103310.7588596136,\n",
              " -122278.8325213295,\n",
              " -203960.19305823438,\n",
              " -330755.37920061534,\n",
              " -581122.0760886666,\n",
              " -711906.8255642863,\n",
              " -799276.7412492762,\n",
              " -884048.3158600524]"
            ]
          },
          "metadata": {
            "tags": []
          },
          "execution_count": 20
        }
      ]
    },
    {
      "cell_type": "code",
      "metadata": {
        "id": "FFrqzCIryg7G"
      },
      "source": [
        "# linear growth of population and constant spacing of zones on streight line\n",
        "type_coords = 'konstant'\n",
        "coef = 1\n",
        "distance_of_cities = 0.8\n",
        "wanted_avg_length = 2\n",
        "type_OD = 'O=D_linear'\n",
        "OD_relation = 'not_equal'"
      ],
      "execution_count": null,
      "outputs": []
    },
    {
      "cell_type": "code",
      "metadata": {
        "colab": {
          "base_uri": "https://localhost:8080/"
        },
        "id": "7gAwCGFt3rMI",
        "outputId": "0198e62c-1fb5-4a18-bac9-5d5402cd5fa8"
      },
      "source": [
        "# calculation of OD matrices for different number of zones\n",
        "np.random.seed(seed)\n",
        "time_cvx = []\n",
        "mean_T = []\n",
        "length = []\n",
        "entropy = []\n",
        "j = 0\n",
        "for a in np.array([10, 20, 40, 50, 100, 200, 500, 750, 1000, 1500]):\n",
        "# velkost miest(pocet obyvatelov) \n",
        "    O, D = population_of_cities(type_OD, max_size, a, OD_relation)\n",
        "\n",
        "# rovnomerne sa zvacsujuca vzdialenost medzi mestami na priamke\n",
        "    x,y = generation_of_coordinates(seed, a, type_coords, coef, distance_of_cities)\n",
        "\n",
        "#   matica vzdialenosti (Euklidovska norma)\n",
        "    d = distance_matrix_d(x,y)\n",
        "    wanted_avg_length = np.sqrt(a)\n",
        "    stlpec = np.ones((a,1))\n",
        "    riadok = np.ones((1,a))\n",
        "# matica OD\n",
        "    TR = cp.Variable((a, a))\n",
        "\n",
        "    constraints = [riadok @ TR == O,\n",
        "               TR @ stlpec == D.T, \n",
        "               cp.sum(cp.multiply(d,TR))/cp.sum(O) == wanted_avg_length]\n",
        "    \n",
        "    obj = cp.Maximize(cp.sum(cp.entr(TR)+TR))\n",
        "    start_time = time.time()\n",
        "    prob = cp.Problem(obj, constraints)\n",
        "#    prob.solve(solver = cp.ECOS)\n",
        "    prob.solve(solver=cp.ECOS, abstol=1e-3, reltol = 1e-3, feastol = 1e-3)  # Returns the optimal value.\n",
        "    end_time = time.time()\n",
        "    print(\"status:\", prob.status)\n",
        "    print(end_time-start_time)\n",
        "    time_cvx.append(end_time-start_time)\n",
        "    mean_T.append(TR.value.mean())\n",
        "    length.append(np.sum(TR.value*d)/np.sum(TR.value))\n",
        "    entropy.append(prob.value)"
      ],
      "execution_count": null,
      "outputs": [
        {
          "output_type": "stream",
          "text": [
            "status: optimal\n",
            "0.025708675384521484\n",
            "status: optimal\n",
            "0.034882307052612305\n",
            "status: optimal\n",
            "0.14562010765075684\n",
            "status: optimal\n",
            "0.24419260025024414\n",
            "status: optimal\n",
            "1.2793242931365967\n",
            "status: optimal\n",
            "7.632089853286743\n",
            "status: optimal\n",
            "70.69959306716919\n",
            "status: optimal\n",
            "189.29969143867493\n",
            "status: optimal\n",
            "406.44550132751465\n",
            "status: optimal\n",
            "1217.6107304096222\n"
          ],
          "name": "stdout"
        }
      ]
    },
    {
      "cell_type": "code",
      "metadata": {
        "colab": {
          "base_uri": "https://localhost:8080/"
        },
        "id": "eS2kh6rkzWaR",
        "outputId": "87e55658-e567-4dcb-fbee-55ddb1fcac40"
      },
      "source": [
        "time_cvx"
      ],
      "execution_count": null,
      "outputs": [
        {
          "output_type": "execute_result",
          "data": {
            "text/plain": [
              "[0.025708675384521484,\n",
              " 0.034882307052612305,\n",
              " 0.14562010765075684,\n",
              " 0.24419260025024414,\n",
              " 1.2793242931365967,\n",
              " 7.632089853286743,\n",
              " 70.69959306716919,\n",
              " 189.29969143867493,\n",
              " 406.44550132751465,\n",
              " 1217.6107304096222]"
            ]
          },
          "metadata": {
            "tags": []
          },
          "execution_count": 16
        }
      ]
    },
    {
      "cell_type": "code",
      "metadata": {
        "colab": {
          "base_uri": "https://localhost:8080/"
        },
        "id": "-LzP7sehLRB7",
        "outputId": "2585e494-6f76-4b63-92d7-d2651af8a1e0"
      },
      "source": [
        "mean_T"
      ],
      "execution_count": null,
      "outputs": [
        {
          "output_type": "execute_result",
          "data": {
            "text/plain": [
              "[99.95827062827927,\n",
              " 99.9447168602551,\n",
              " 99.95599654914344,\n",
              " 99.95905945704752,\n",
              " 99.93038614361056,\n",
              " 99.91984873231847,\n",
              " 99.96768374934928,\n",
              " 99.91981498978026,\n",
              " 99.91957651037625,\n",
              " 99.9192157576364]"
            ]
          },
          "metadata": {
            "tags": []
          },
          "execution_count": 17
        }
      ]
    },
    {
      "cell_type": "code",
      "metadata": {
        "colab": {
          "base_uri": "https://localhost:8080/"
        },
        "id": "T_gVTYOxLSi3",
        "outputId": "d2e48a16-bb77-4eb8-c5ea-54696e84572f"
      },
      "source": [
        "length"
      ],
      "execution_count": null,
      "outputs": [
        {
          "output_type": "execute_result",
          "data": {
            "text/plain": [
              "[3.1622776601745985,\n",
              " 4.472135954997144,\n",
              " 6.324555320333563,\n",
              " 7.071067811867065,\n",
              " 9.999999999989692,\n",
              " 14.142135623719653,\n",
              " 22.36067977499286,\n",
              " 27.386127875248377,\n",
              " 31.622776601673138,\n",
              " 38.72983346206546]"
            ]
          },
          "metadata": {
            "tags": []
          },
          "execution_count": 18
        }
      ]
    },
    {
      "cell_type": "code",
      "metadata": {
        "colab": {
          "base_uri": "https://localhost:8080/"
        },
        "id": "chOCU3SPLT-s",
        "outputId": "58fce4d8-94f1-42a7-de6b-19e7abd1a350"
      },
      "source": [
        "entropy"
      ],
      "execution_count": null,
      "outputs": [
        {
          "output_type": "execute_result",
          "data": {
            "text/plain": [
              "[-38227.8620326249,\n",
              " -157221.00359372297,\n",
              " -665796.5475871867,\n",
              " -1061825.6868425717,\n",
              " -4533987.691334602,\n",
              " -19363302.412004944,\n",
              " -131673470.66758573,\n",
              " -306973709.5457156,\n",
              " -559489166.2609211,\n",
              " -1302795935.726053]"
            ]
          },
          "metadata": {
            "tags": []
          },
          "execution_count": 19
        }
      ]
    },
    {
      "cell_type": "code",
      "metadata": {
        "id": "Emyz7SP-zaUL"
      },
      "source": [
        "# constant population and normal distribution of zones\n",
        "type_coords = 'nahodne'\n",
        "coef = 1\n",
        "distance_of_cities = 0.8\n",
        "wanted_avg_length = 2\n",
        "type_OD = 'O=D=1000'\n",
        "OD_relation = 'equal'"
      ],
      "execution_count": 11,
      "outputs": []
    },
    {
      "cell_type": "code",
      "metadata": {
        "id": "Fqb6IF4wLaJz",
        "colab": {
          "base_uri": "https://localhost:8080/"
        },
        "outputId": "61f10400-9ca0-4d09-a384-6e52ad4cdcac"
      },
      "source": [
        "# calculation of OD matrices for different number of zones\n",
        "time_cvx = []\n",
        "mean_T = []\n",
        "length = []\n",
        "entropy = []\n",
        "j = 0\n",
        "for a in np.array([10, 20, 40, 50, 100, 200, 500, 750, 1000, 1500]):\n",
        "# velkost miest(pocet obyvatelov) \n",
        "    O, D = population_of_cities(type_OD, max_size, a, OD_relation)\n",
        "\n",
        "# rovnomerne sa zvacsujuca vzdialenost medzi mestami na priamke\n",
        "    x,y = generation_of_coordinates(seed, a, type_coords, coef, distance_of_cities)\n",
        "\n",
        "#   matica vzdialenosti (Euklidovska norma)\n",
        "    d = distance_matrix_d(x,y)\n",
        "    wanted_avg_length = np.sqrt(d.max())\n",
        "    stlpec = np.ones((a,1))\n",
        "    riadok = np.ones((1,a))\n",
        "# matica OD\n",
        "    TR = cp.Variable((a, a))\n",
        "\n",
        "    constraints = [riadok @ TR == O,\n",
        "               TR @ stlpec == D.T, \n",
        "               cp.sum(cp.multiply(d,TR))/cp.sum(O) == wanted_avg_length]\n",
        "    \n",
        "    obj = cp.Maximize(cp.sum(cp.entr(TR)+TR))\n",
        "    start_time = time.time()\n",
        "    prob = cp.Problem(obj, constraints)\n",
        "#    prob.solve(solver=cp.ECOS, max_iters= 300, verbose = True, abstol=1e-3, reltol = 1e-3, feastol = 1e-3)  # Returns the optimal value.\n",
        "    prob.solve(solver=cp.ECOS, max_iters = 300)\n",
        "    end_time = time.time()\n",
        "    print(\"status:\", prob.status)\n",
        "    print(end_time-start_time)\n",
        "    time_cvx.append(end_time-start_time)\n",
        "    mean_T.append(TR.value.mean())\n",
        "    length.append(np.sum(TR.value*d)/np.sum(TR.value))\n",
        "    entropy.append(prob.value)"
      ],
      "execution_count": 12,
      "outputs": [
        {
          "output_type": "stream",
          "text": [
            "status: optimal\n",
            "0.02762293815612793\n",
            "status: optimal\n",
            "0.05368971824645996\n",
            "status: optimal\n",
            "0.2530972957611084\n",
            "status: optimal\n",
            "0.41989970207214355\n",
            "status: optimal\n",
            "2.371194839477539\n",
            "status: optimal\n",
            "14.656854629516602\n",
            "status: optimal\n",
            "171.91375470161438\n",
            "status: optimal\n",
            "558.0112898349762\n",
            "status: optimal\n",
            "1183.2800755500793\n",
            "status: optimal\n",
            "3498.430337667465\n"
          ],
          "name": "stdout"
        }
      ]
    },
    {
      "cell_type": "code",
      "metadata": {
        "id": "6q4l0oFsLr8a",
        "colab": {
          "base_uri": "https://localhost:8080/"
        },
        "outputId": "32fdbe53-6368-4069-e4a5-1e43e26b43f1"
      },
      "source": [
        "time_cvx"
      ],
      "execution_count": 13,
      "outputs": [
        {
          "output_type": "execute_result",
          "data": {
            "text/plain": [
              "[0.02762293815612793,\n",
              " 0.05368971824645996,\n",
              " 0.2530972957611084,\n",
              " 0.41989970207214355,\n",
              " 2.371194839477539,\n",
              " 14.656854629516602,\n",
              " 171.91375470161438,\n",
              " 558.0112898349762,\n",
              " 1183.2800755500793,\n",
              " 3498.430337667465]"
            ]
          },
          "metadata": {
            "tags": []
          },
          "execution_count": 13
        }
      ]
    },
    {
      "cell_type": "code",
      "metadata": {
        "id": "vF4V1ja1Lt9e",
        "colab": {
          "base_uri": "https://localhost:8080/"
        },
        "outputId": "5ae477f0-bb16-4e5f-c651-7291f4d812c3"
      },
      "source": [
        "mean_T"
      ],
      "execution_count": 14,
      "outputs": [
        {
          "output_type": "execute_result",
          "data": {
            "text/plain": [
              "[99.9999990802391,\n",
              " 49.99999976218129,\n",
              " 24.99999989183083,\n",
              " 19.999999935964656,\n",
              " 9.999999975150974,\n",
              " 4.999999959637623,\n",
              " 1.999999982885199,\n",
              " 1.3333333283014575,\n",
              " 0.9999999914794373,\n",
              " 0.6666666639824828]"
            ]
          },
          "metadata": {
            "tags": []
          },
          "execution_count": 14
        }
      ]
    },
    {
      "cell_type": "code",
      "metadata": {
        "id": "XfjsMirYUY2m",
        "colab": {
          "base_uri": "https://localhost:8080/"
        },
        "outputId": "5e2b361a-2d63-4da2-ef80-d6bc50899312"
      },
      "source": [
        "length"
      ],
      "execution_count": 15,
      "outputs": [
        {
          "output_type": "execute_result",
          "data": {
            "text/plain": [
              "[15.585571360515392,\n",
              " 15.404861217026337,\n",
              " 16.770386744267824,\n",
              " 16.13715731638147,\n",
              " 17.829277014860374,\n",
              " 17.201292358696865,\n",
              " 18.469158700271738,\n",
              " 18.884275146691635,\n",
              " 19.277682184434198,\n",
              " 18.75134023547744]"
            ]
          },
          "metadata": {
            "tags": []
          },
          "execution_count": 15
        }
      ]
    },
    {
      "cell_type": "code",
      "metadata": {
        "id": "2FJM0DeTUZ56",
        "colab": {
          "base_uri": "https://localhost:8080/"
        },
        "outputId": "ed09a9d0-0c6f-407c-a38e-2eb6455c8eba"
      },
      "source": [
        "entropy"
      ],
      "execution_count": 16,
      "outputs": [
        {
          "output_type": "execute_result",
          "data": {
            "text/plain": [
              "[-49300.89129824403,\n",
              " -92419.23419161905,\n",
              " -165396.94170771664,\n",
              " -201203.00937409274,\n",
              " -334401.3553616439,\n",
              " -561412.9871460119,\n",
              " -965750.4093637705,\n",
              " -1111974.1848265226,\n",
              " -1183285.7027504968,\n",
              " -1287946.9953779785]"
            ]
          },
          "metadata": {
            "tags": []
          },
          "execution_count": 16
        }
      ]
    },
    {
      "cell_type": "markdown",
      "metadata": {
        "id": "9mycNgsHLuPC"
      },
      "source": [
        "### New constraints on OD matrix"
      ]
    },
    {
      "cell_type": "code",
      "metadata": {
        "id": "emfk2Jix6wkZ"
      },
      "source": [
        "seed = 1234\n",
        "n = 10\n",
        "max_size = 2000\n",
        "type_coords = 'konstant'\n",
        "coef = 1\n",
        "distance_of_cities = 0.8\n",
        "wanted_avg_length = 2.5\n",
        "type_OD = 'O=D=1000'\n",
        "OD_relation = 'equal'"
      ],
      "execution_count": null,
      "outputs": []
    },
    {
      "cell_type": "markdown",
      "metadata": {
        "id": "6D_7L9ylrVg4"
      },
      "source": [
        "### 1. approach addition of equation constraints"
      ]
    },
    {
      "cell_type": "code",
      "metadata": {
        "id": "6ZNsyiD1iNZH"
      },
      "source": [
        "time_equal = []\n",
        "entropy_equal = []"
      ],
      "execution_count": null,
      "outputs": []
    },
    {
      "cell_type": "code",
      "metadata": {
        "id": "rIsylvX465Sq"
      },
      "source": [
        "np.random.seed(seed)"
      ],
      "execution_count": null,
      "outputs": []
    },
    {
      "cell_type": "code",
      "metadata": {
        "id": "ZTwzc1Zk6_9z"
      },
      "source": [
        "x,y = generation_of_coordinates(seed, n, type_coords, coef, distance_of_cities)\n",
        "O, D = population_of_cities(type_OD, max_size, n, OD_relation)"
      ],
      "execution_count": null,
      "outputs": []
    },
    {
      "cell_type": "code",
      "metadata": {
        "id": "3l16d_2WL4bY"
      },
      "source": [
        "stlpec = np.ones((n,1))\n",
        "riadok = np.ones((1,n))\n",
        "\n",
        "d = distance_matrix_d(x,y)"
      ],
      "execution_count": null,
      "outputs": []
    },
    {
      "cell_type": "code",
      "metadata": {
        "id": "YFYvxFIG60HQ"
      },
      "source": [
        "# zero constraints\n",
        "TR = cp.Variable((n, n))\n",
        "\n",
        "constraints = [riadok @ TR == O,\n",
        "               TR @ stlpec == D.T, \n",
        "               cp.sum(cp.multiply(d,TR))/cp.sum(O) == wanted_avg_length]\n",
        "               \n",
        "obj = cp.Maximize(cp.sum(cp.entr(TR)+TR))"
      ],
      "execution_count": null,
      "outputs": []
    },
    {
      "cell_type": "code",
      "metadata": {
        "colab": {
          "base_uri": "https://localhost:8080/",
          "height": 325
        },
        "id": "dK1El0M1Md-P",
        "outputId": "9d801cc5-fcb1-4d48-86a8-af908b6627ad"
      },
      "source": [
        "time_plt = []\n",
        "start_time = time.time()\n",
        "prob = cp.Problem(obj, constraints)\n",
        "prob.solve(solver=cp.ECOS)  # Returns the optimal value.\n",
        "end_time = time.time()\n",
        "print(end_time-start_time)\n",
        "print(\"status:\", prob.status)\n",
        "print(\"optimal value\", prob.value)\n",
        "image = plt.imshow(TR.value)\n",
        "cbar = plt.colorbar(image, extend='neither', spacing='proportional',\n",
        "                orientation='vertical', shrink=1, format=\"%.0f\")\n",
        "plt.xticks( fontsize=20)\n",
        "plt.yticks( fontsize=20)\n",
        "cbar.ax.tick_params(labelsize=20) \n",
        "time_equal.append(end_time-start_time)\n",
        "entropy_equal.append(prob.value)"
      ],
      "execution_count": null,
      "outputs": [
        {
          "output_type": "stream",
          "text": [
            "0.019326448440551758\n",
            "status: optimal\n",
            "optimal value -36738.132568841305\n"
          ],
          "name": "stdout"
        },
        {
          "output_type": "display_data",
          "data": {
            "image/png": "[encoded data removed]",
            "text/plain": [
              "<Figure size 432x288 with 2 Axes>"
            ]
          },
          "metadata": {
            "tags": [],
            "needs_background": "light"
          }
        }
      ]
    },
    {
      "cell_type": "code",
      "metadata": {
        "colab": {
          "base_uri": "https://localhost:8080/"
        },
        "id": "ldyCwu24e6w2",
        "outputId": "ac1a51ec-acbe-448d-ab20-69838004507c"
      },
      "source": [
        "TR.value"
      ],
      "execution_count": null,
      "outputs": [
        {
          "output_type": "execute_result",
          "data": {
            "text/plain": [
              "array([[220.04405434, 166.52406693, 131.10883469, 106.06445415,\n",
              "         87.62632548,  73.74062365,  63.21010106,  55.33411842,\n",
              "         49.77169877,  46.57571554],\n",
              "       [166.52406693, 177.9508112 , 140.10541861, 113.342523  ,\n",
              "         93.63918229,  78.80065346,  67.54753392,  59.13110693,\n",
              "         53.18699793,  49.77169877],\n",
              "       [131.10883469, 140.10541861, 155.76341597, 126.00953394,\n",
              "        104.10417415,  87.60731097,  75.09655758,  65.73952176,\n",
              "         59.13110693,  55.33411842],\n",
              "       [106.06445415, 113.342523  , 126.00953394, 143.94512135,\n",
              "        118.92184191, 100.07689886,  85.78542725,  75.09655758,\n",
              "         67.54753392,  63.21010106],\n",
              "       [ 87.62632548,  93.63918229, 104.10417415, 118.92184191,\n",
              "        138.73371726, 116.74926499, 100.07689886,  87.60731097,\n",
              "         78.80065346,  73.74062365],\n",
              "       [ 73.74062365,  78.80065346,  87.60731097, 100.07689886,\n",
              "        116.74926499, 138.73371726, 118.92184191, 104.10417415,\n",
              "         93.63918229,  87.62632548],\n",
              "       [ 63.21010106,  67.54753392,  75.09655758,  85.78542725,\n",
              "        100.07689886, 118.92184191, 143.94512135, 126.00953394,\n",
              "        113.342523  , 106.06445415],\n",
              "       [ 55.33411842,  59.13110693,  65.73952176,  75.09655758,\n",
              "         87.60731097, 104.10417415, 126.00953394, 155.76341597,\n",
              "        140.10541861, 131.10883469],\n",
              "       [ 49.77169877,  53.18699793,  59.13110693,  67.54753392,\n",
              "         78.80065346,  93.63918229, 113.342523  , 140.10541861,\n",
              "        177.9508112 , 166.52406693],\n",
              "       [ 46.57571554,  49.77169877,  55.33411842,  63.21010106,\n",
              "         73.74062365,  87.62632548, 106.06445415, 131.10883469,\n",
              "        166.52406693, 220.04405434]])"
            ]
          },
          "metadata": {
            "tags": []
          },
          "execution_count": 177
        }
      ]
    },
    {
      "cell_type": "code",
      "metadata": {
        "colab": {
          "base_uri": "https://localhost:8080/"
        },
        "id": "fZhxgg8VMynT",
        "outputId": "0a7871eb-3ccb-4dbd-ef87-72cc3435bc35"
      },
      "source": [
        "np.random.seed(seed)\n",
        "T_1 = np.random.randint(0,n,1)\n",
        "print(T_1)\n",
        "T_2 = np.random.randint(0,n,1)\n",
        "print(T_2)\n",
        "T1_value = np.random.randint(0,500,1)\n",
        "print(T1_value)"
      ],
      "execution_count": null,
      "outputs": [
        {
          "output_type": "stream",
          "text": [
            "[3]\n",
            "[6]\n",
            "[53]\n"
          ],
          "name": "stdout"
        }
      ]
    },
    {
      "cell_type": "code",
      "metadata": {
        "id": "2AzAVyQ4MqMO"
      },
      "source": [
        "# one constraint\n",
        "TR = cp.Variable((n, n))\n",
        "\n",
        "constraints = [riadok @ TR == O,\n",
        "               TR @ stlpec == D.T, \n",
        "               cp.sum(cp.multiply(d,TR))/cp.sum(O) == wanted_avg_length,\n",
        "               TR[T_1,T_2] == T1_value]\n",
        "               \n",
        "obj = cp.Maximize(cp.sum(cp.entr(TR)+TR))"
      ],
      "execution_count": null,
      "outputs": []
    },
    {
      "cell_type": "code",
      "metadata": {
        "colab": {
          "base_uri": "https://localhost:8080/",
          "height": 325
        },
        "id": "fu9wWBWDNhAv",
        "outputId": "25e51874-fcd3-4e3b-ea26-df7021adbdc8"
      },
      "source": [
        "start_time = time.time()\n",
        "prob = cp.Problem(obj, constraints)\n",
        "prob.solve(solver=cp.ECOS)  # Returns the optimal value.\n",
        "end_time = time.time()\n",
        "print(end_time-start_time)\n",
        "print(\"status:\", prob.status)\n",
        "print(\"optimal value\", prob.value)\n",
        "image = plt.imshow(TR.value)\n",
        "cbar = plt.colorbar(image, extend='neither', spacing='proportional',\n",
        "                orientation='vertical', shrink=1, format=\"%.0f\")\n",
        "plt.xticks( fontsize=20)\n",
        "plt.yticks( fontsize=20)\n",
        "cbar.ax.tick_params(labelsize=20) \n",
        "time_equal.append(end_time-start_time)\n",
        "entropy_equal.append(prob.value)"
      ],
      "execution_count": null,
      "outputs": [
        {
          "output_type": "stream",
          "text": [
            "0.035832881927490234\n",
            "status: optimal\n",
            "optimal value -36746.65155380378\n"
          ],
          "name": "stdout"
        },
        {
          "output_type": "display_data",
          "data": {
            "image/png": "[encoded data removed]",
            "text/plain": [
              "<Figure size 432x288 with 2 Axes>"
            ]
          },
          "metadata": {
            "tags": [],
            "needs_background": "light"
          }
        }
      ]
    },
    {
      "cell_type": "code",
      "metadata": {
        "colab": {
          "base_uri": "https://localhost:8080/"
        },
        "id": "vz5Qls5dfnVe",
        "outputId": "2c2abffc-d12c-4fda-ce3a-713c5be02ee5"
      },
      "source": [
        "TR.value"
      ],
      "execution_count": null,
      "outputs": [
        {
          "output_type": "execute_result",
          "data": {
            "text/plain": [
              "array([[218.78677315, 165.7321615 , 130.56583346, 105.66320013,\n",
              "         87.4712986 ,  73.7393684 ,  65.81083029,  55.48759217,\n",
              "         49.96005667,  46.782883  ],\n",
              "       [165.73216159, 176.98753732, 139.43296287, 112.8391159 ,\n",
              "         93.41174617,  78.74723863,  70.28024905,  59.25592861,\n",
              "         53.35300054,  49.96005667],\n",
              "       [130.56583345, 139.4329629 , 154.85970095, 125.32353454,\n",
              "        103.74673804,  87.45976252,  78.0559928 ,  65.81195139,\n",
              "         59.25592861,  55.48759217],\n",
              "       [109.84513695, 117.30506105, 130.28358784, 148.63946004,\n",
              "        123.04838973, 103.73128975,  52.99999986,  78.0559928 ,\n",
              "         70.28024905,  65.81083029],\n",
              "       [ 87.30370703,  93.23277301, 103.54796342, 118.13700884,\n",
              "        137.87260346, 116.22828231, 103.73128975,  87.45976252,\n",
              "         78.74723863,  73.7393684 ],\n",
              "       [ 73.45961501,  78.44848634,  87.12795653,  99.40355977,\n",
              "        116.00960371, 137.87260346, 123.04838973, 103.74673804,\n",
              "         93.41174617,  87.4712986 ],\n",
              "       [ 62.94433354,  67.21907975,  74.65613845,  85.17456641,\n",
              "         99.40355977, 118.13700884, 148.63946004, 125.32353454,\n",
              "        112.8391159 , 105.66320013],\n",
              "       [ 55.17117397,  58.91802143,  65.43665844,  74.65613845,\n",
              "         87.12795653, 103.54796342, 130.28358784, 154.85970095,\n",
              "        139.43296287, 130.56583346],\n",
              "       [ 49.67515922,  53.04875484,  58.91802143,  67.21907975,\n",
              "         78.44848634,  93.23277301, 117.30506105, 139.4329629 ,\n",
              "        176.98753732, 165.7321615 ],\n",
              "       [ 46.51610345,  49.67515922,  55.17117397,  62.94433354,\n",
              "         73.45961501,  87.30370703, 109.84513695, 130.56583345,\n",
              "        165.7321616 , 218.78677315]])"
            ]
          },
          "metadata": {
            "tags": []
          },
          "execution_count": 181
        }
      ]
    },
    {
      "cell_type": "code",
      "metadata": {
        "colab": {
          "base_uri": "https://localhost:8080/"
        },
        "id": "pOoSX2H6NmEp",
        "outputId": "4a6498ce-7d77-4267-9ac3-dc28930f6383"
      },
      "source": [
        "T_3 = np.random.randint(0,n,1)\n",
        "print(T_3)\n",
        "T_4 = np.random.randint(0,n,1)\n",
        "print(T_4)\n",
        "T2_value = np.random.randint(0,500,1)\n",
        "print(T2_value)"
      ],
      "execution_count": null,
      "outputs": [
        {
          "output_type": "stream",
          "text": [
            "[4]\n",
            "[8]\n",
            "[143]\n"
          ],
          "name": "stdout"
        }
      ]
    },
    {
      "cell_type": "code",
      "metadata": {
        "id": "Z6RI0o28PUL6"
      },
      "source": [
        "# two constraints\n",
        "TR = cp.Variable((n, n))\n",
        "\n",
        "constraints = [riadok @ TR == O,\n",
        "               TR @ stlpec == D.T, \n",
        "               cp.sum(cp.multiply(d,TR))/cp.sum(O) == wanted_avg_length,\n",
        "               TR[T_1,T_2] == T1_value,\n",
        "               TR[T_3,T_4] == T2_value]\n",
        "               \n",
        "obj = cp.Maximize(cp.sum(cp.entr(TR)+TR))"
      ],
      "execution_count": null,
      "outputs": []
    },
    {
      "cell_type": "code",
      "metadata": {
        "colab": {
          "base_uri": "https://localhost:8080/",
          "height": 325
        },
        "id": "0UPnMB0fPjPE",
        "outputId": "9eb5a42e-b6f1-438a-fb2b-70fa71dfd61e"
      },
      "source": [
        "start_time = time.time()\n",
        "prob = cp.Problem(obj, constraints)\n",
        "prob.solve(solver=cp.ECOS)  # Returns the optimal value.\n",
        "end_time = time.time()\n",
        "print(end_time-start_time)\n",
        "print(\"status:\", prob.status)\n",
        "print(\"optimal value\", prob.value)\n",
        "image = plt.imshow(TR.value)\n",
        "cbar = plt.colorbar(image, extend='neither', spacing='proportional',\n",
        "                orientation='vertical', shrink=1, format=\"%.0f\")\n",
        "plt.xticks( fontsize=20)\n",
        "plt.yticks( fontsize=20)\n",
        "cbar.ax.tick_params(labelsize=20) \n",
        "time_equal.append(end_time-start_time)\n",
        "entropy_equal.append(prob.value)"
      ],
      "execution_count": null,
      "outputs": [
        {
          "output_type": "stream",
          "text": [
            "0.0371098518371582\n",
            "status: optimal\n",
            "optimal value -36772.81896108887\n"
          ],
          "name": "stdout"
        },
        {
          "output_type": "display_data",
          "data": {
            "image/png": "[encoded data removed]",
            "text/plain": [
              "<Figure size 432x288 with 2 Axes>"
            ]
          },
          "metadata": {
            "tags": [],
            "needs_background": "light"
          }
        }
      ]
    },
    {
      "cell_type": "code",
      "metadata": {
        "colab": {
          "base_uri": "https://localhost:8080/"
        },
        "id": "RgG5lh5wgG_h",
        "outputId": "d6892ea1-463e-4432-c323-03bf75971e7f"
      },
      "source": [
        "TR.value"
      ],
      "execution_count": null,
      "outputs": [
        {
          "output_type": "execute_result",
          "data": {
            "text/plain": [
              "array([[221.87641664, 167.4259128 , 131.5097651 , 106.16957411,\n",
              "         87.72299749,  73.57321344,  65.36456252,  54.87264779,\n",
              "         45.49222755,  45.99267624],\n",
              "       [167.42591305, 179.14182142, 140.71236731, 113.59896785,\n",
              "         93.86155912,  78.72162422,  69.93856832,  58.71245833,\n",
              "         48.67562089,  49.21109316],\n",
              "       [131.50976519, 140.71236711, 156.72220382, 126.52392193,\n",
              "        104.5408495 ,  87.67833768,  77.89597599,  65.39259334,\n",
              "         54.21379371,  54.81018542],\n",
              "       [110.38571201, 118.11013441, 131.54835588, 150.58803846,\n",
              "        124.42391279, 104.35424894,  52.99999967,  77.82988514,\n",
              "         64.52494478,  65.23476162],\n",
              "       [ 80.90012662,  86.56124871,  96.40993146, 110.3638457 ,\n",
              "        129.30137453, 108.44497274,  96.34565453,  80.88084296,\n",
              "        142.9999991 ,  67.79199733],\n",
              "       [ 73.55810299,  78.70545615,  87.66033011, 100.34786875,\n",
              "        117.56673821, 139.8149751 , 124.21567312, 104.27733769,\n",
              "         86.45123782,  87.40227374],\n",
              "       [ 62.96900975,  67.3753827 ,  75.04115721,  85.90225621,\n",
              "        100.6423774 , 119.68786143, 150.77722747, 126.5753944 ,\n",
              "        104.93746575, 106.09186137],\n",
              "       [ 55.18252935,  59.04402461,  65.76188417,  75.27994463,\n",
              "         88.1973641 , 104.88776365, 132.13274908, 157.28486854,\n",
              "        130.39718755, 131.83167801],\n",
              "       [ 49.73189988,  53.21197282,  59.26627884,  67.84419915,\n",
              "         79.48570767,  94.52752141, 119.08139578, 141.74912566,\n",
              "        166.63438336, 168.46750911],\n",
              "       [ 46.46051819,  49.71167294,  55.36771978,  63.3813769 ,\n",
              "         74.25711288,  88.30947507, 111.24818721, 132.42483985,\n",
              "        155.67313319, 223.16595768]])"
            ]
          },
          "metadata": {
            "tags": []
          },
          "execution_count": 185
        }
      ]
    },
    {
      "cell_type": "code",
      "metadata": {
        "colab": {
          "base_uri": "https://localhost:8080/"
        },
        "id": "LjBt6pDFPnB7",
        "outputId": "a7f4399c-3742-4845-da17-f3689617a6b6"
      },
      "source": [
        "T_5 = np.random.randint(0,n,1)\n",
        "print(T_5)\n",
        "T_6 = np.random.randint(0,n,1)\n",
        "print(T_6)\n",
        "T3_value = np.random.randint(0,500,1)\n",
        "print(T3_value)\n",
        "T_7 = np.random.randint(0,n,1)\n",
        "print(T_7)\n",
        "T_8 = np.random.randint(0,n,1)\n",
        "print(T_8)\n",
        "T4_value = np.random.randint(0,500,1)\n",
        "print(T4_value)"
      ],
      "execution_count": null,
      "outputs": [
        {
          "output_type": "stream",
          "text": [
            "[1]\n",
            "[7]\n",
            "[233]\n",
            "[6]\n",
            "[8]\n",
            "[368]\n"
          ],
          "name": "stdout"
        }
      ]
    },
    {
      "cell_type": "code",
      "metadata": {
        "id": "e3SMPam-PuTC"
      },
      "source": [
        "# four constraints\n",
        "TR = cp.Variable((n, n))\n",
        "\n",
        "constraints = [riadok @ TR == O,\n",
        "               TR @ stlpec == D.T, \n",
        "               cp.sum(cp.multiply(d,TR))/cp.sum(O) == wanted_avg_length,\n",
        "               TR[T_1,T_2] == T1_value,\n",
        "               TR[T_3,T_4] == T2_value,\n",
        "               TR[T_5,T_6] == T3_value,\n",
        "               TR[T_7,T_8] == T4_value]\n",
        "               \n",
        "obj = cp.Maximize(cp.sum(cp.entr(TR)+TR))"
      ],
      "execution_count": null,
      "outputs": []
    },
    {
      "cell_type": "code",
      "metadata": {
        "colab": {
          "base_uri": "https://localhost:8080/",
          "height": 325
        },
        "id": "81gR_ru4QP2f",
        "outputId": "be224f4d-e0f2-46db-d446-181c6ccb1b80"
      },
      "source": [
        "start_time = time.time()\n",
        "prob = cp.Problem(obj, constraints)\n",
        "prob.solve(solver=cp.ECOS)  # Returns the optimal value.\n",
        "end_time = time.time()\n",
        "print(end_time-start_time)\n",
        "print(\"status:\", prob.status)\n",
        "print(\"optimal value\", prob.value)\n",
        "image = plt.imshow(TR.value)\n",
        "cbar = plt.colorbar(image, extend='neither', spacing='proportional',\n",
        "                orientation='vertical', shrink=1, format=\"%.0f\")\n",
        "plt.xticks( fontsize=20)\n",
        "plt.yticks( fontsize=20)\n",
        "cbar.ax.tick_params(labelsize=20) \n",
        "time_equal.append(end_time-start_time)\n",
        "entropy_equal.append(prob.value)"
      ],
      "execution_count": null,
      "outputs": [
        {
          "output_type": "stream",
          "text": [
            "0.029266357421875\n",
            "status: optimal\n",
            "optimal value -37259.165425367726\n"
          ],
          "name": "stdout"
        },
        {
          "output_type": "display_data",
          "data": {
            "image/png": "[encoded data removed]",
            "text/plain": [
              "<Figure size 432x288 with 2 Axes>"
            ]
          },
          "metadata": {
            "tags": [],
            "needs_background": "light"
          }
        }
      ]
    },
    {
      "cell_type": "code",
      "metadata": {
        "colab": {
          "base_uri": "https://localhost:8080/"
        },
        "id": "f67ht-g-gSp2",
        "outputId": "baf88239-6b65-4748-e40c-5caf519f6a47"
      },
      "source": [
        "TR.value"
      ],
      "execution_count": null,
      "outputs": [
        {
          "output_type": "execute_result",
          "data": {
            "text/plain": [
              "array([[243.48377423, 179.8474451 , 137.24802814, 108.18717183,\n",
              "         87.61938877,  72.08950037,  63.19425782,  41.20659809,\n",
              "         25.85423766,  41.26958983],\n",
              "       [144.39345121, 156.53948148, 119.46088304,  94.16627297,\n",
              "         76.26404493,  62.74680713,  55.00437492, 232.9999981 ,\n",
              "         22.50356644,  35.92111163],\n",
              "       [139.15713965, 150.86270422, 168.9763334 , 133.19733653,\n",
              "        107.87479667,  88.75478718,  77.80318742,  50.73253154,\n",
              "         31.83108985,  50.81008537],\n",
              "       [115.71548307, 125.44919184, 140.51149788, 162.56374334,\n",
              "        131.6582676 , 108.32281288,  52.99999957,  61.9176803 ,\n",
              "         38.84898279,  62.01233255],\n",
              "       [ 81.43706435,  88.2873549 ,  98.88775054, 114.40745302,\n",
              "        135.99437122, 111.8903739 ,  98.08403574,  63.95690983,\n",
              "        142.99999883,  64.05467951],\n",
              "       [ 75.82744058,  82.20586306,  92.07607239, 106.52673212,\n",
              "        126.62667928, 152.9111606 , 134.04319693,  87.40452533,\n",
              "         54.84018281,  87.53813872],\n",
              "       [ 43.97901111,  47.67842009,  53.40302385,  61.78423429,\n",
              "         73.44196371,  88.68664697, 114.10534679,  74.40380429,\n",
              "        367.99999699,  74.51754373],\n",
              "       [ 57.10294807,  61.90631116,  69.33921477,  80.22149272,\n",
              "         95.35804749, 115.15195195, 148.15594114, 141.79155759,\n",
              "         88.96421329, 142.00831365],\n",
              "       [ 51.53557789,  55.87062715,  62.57884444,  72.40013218,\n",
              "         86.06091728, 103.92497402, 133.71116971, 127.9672952 ,\n",
              "        117.84363334, 188.10682061],\n",
              "       [ 47.36810166,  51.35259282,  57.51834338,  66.54542283,\n",
              "         79.10151486,  95.52097685, 122.8984818 , 117.61909156,\n",
              "        108.31408983, 253.76137623]])"
            ]
          },
          "metadata": {
            "tags": []
          },
          "execution_count": 189
        }
      ]
    },
    {
      "cell_type": "code",
      "metadata": {
        "colab": {
          "base_uri": "https://localhost:8080/"
        },
        "id": "ADY5T-NqQTYJ",
        "outputId": "f6cd315e-828a-473d-e987-c1b936c3081c"
      },
      "source": [
        "T_9 = np.random.randint(0,n,1)\n",
        "print(T_9)\n",
        "T_10 = np.random.randint(0,n,1)\n",
        "print(T_10)\n",
        "T5_value = np.random.randint(0,500,1)\n",
        "print(T5_value)\n",
        "T_11 = np.random.randint(0,n,1)\n",
        "print(T_11)\n",
        "T_12 = np.random.randint(0,n,1)\n",
        "print(T_12)\n",
        "T6_value = np.random.randint(0,500,1)\n",
        "print(T6_value)\n",
        "T_13 = np.random.randint(0,n,1)\n",
        "print(T_13)\n",
        "T_14 = np.random.randint(0,n,1)\n",
        "print(T_14)\n",
        "T7_value = np.random.randint(0,500,1)\n",
        "print(T7_value)\n",
        "T_15 = np.random.randint(0,n,1)\n",
        "print(T_15)\n",
        "T_16 = np.random.randint(0,n,1)\n",
        "print(T_16)\n",
        "T8_value = np.random.randint(0,500,1)\n",
        "print(T8_value)"
      ],
      "execution_count": null,
      "outputs": [
        {
          "output_type": "stream",
          "text": [
            "[5]\n",
            "[0]\n",
            "[457]\n",
            "[6]\n",
            "[2]\n",
            "[240]\n",
            "[5]\n",
            "[2]\n",
            "[422]\n",
            "[3]\n",
            "[7]\n",
            "[139]\n"
          ],
          "name": "stdout"
        }
      ]
    },
    {
      "cell_type": "code",
      "metadata": {
        "id": "o6Ip55W4Q3XV"
      },
      "source": [
        "# eight constraints\n",
        "TR = cp.Variable((n, n))\n",
        "\n",
        "constraints = [riadok @ TR == O,\n",
        "               TR @ stlpec == D.T, \n",
        "               cp.sum(cp.multiply(d,TR))/cp.sum(O) == wanted_avg_length,\n",
        "               TR[T_1,T_2] == T1_value,\n",
        "               TR[T_3,T_4] == T2_value,\n",
        "               TR[T_5,T_6] == T3_value,\n",
        "               TR[T_7,T_8] == T4_value,\n",
        "               TR[T_9,T_10] == T5_value,\n",
        "               TR[T_11,T_12] == T6_value,\n",
        "               TR[T_13,T_14] == T7_value,\n",
        "               TR[T_15,T_16] == T8_value]\n",
        "               \n",
        "obj = cp.Maximize(cp.sum(cp.entr(TR)+TR))"
      ],
      "execution_count": null,
      "outputs": []
    },
    {
      "cell_type": "code",
      "metadata": {
        "colab": {
          "base_uri": "https://localhost:8080/",
          "height": 325
        },
        "id": "EPpxnZerSB8i",
        "outputId": "db733d07-a424-481f-ee35-898e41218983"
      },
      "source": [
        "start_time = time.time()\n",
        "prob = cp.Problem(obj, constraints)\n",
        "prob.solve(solver=cp.ECOS)  # Returns the optimal value.\n",
        "end_time = time.time()\n",
        "print(end_time-start_time)\n",
        "print(\"status:\", prob.status)\n",
        "print(\"optimal value\", prob.value)\n",
        "image = plt.imshow(TR.value)\n",
        "cbar = plt.colorbar(image, extend='neither', spacing='proportional',\n",
        "                orientation='vertical', shrink=1, format=\"%.0f\")\n",
        "plt.xticks( fontsize=20)\n",
        "plt.yticks( fontsize=20)\n",
        "cbar.ax.tick_params(labelsize=20) \n",
        "time_equal.append(end_time-start_time)\n",
        "entropy_equal.append(prob.value)"
      ],
      "execution_count": null,
      "outputs": [
        {
          "output_type": "stream",
          "text": [
            "0.05623793601989746\n",
            "status: optimal\n",
            "optimal value -39175.14167061108\n"
          ],
          "name": "stdout"
        },
        {
          "output_type": "display_data",
          "data": {
            "image/png": "[encoded data removed]",
            "text/plain": [
              "<Figure size 432x288 with 2 Axes>"
            ]
          },
          "metadata": {
            "tags": [],
            "needs_background": "light"
          }
        }
      ]
    },
    {
      "cell_type": "code",
      "metadata": {
        "colab": {
          "base_uri": "https://localhost:8080/"
        },
        "id": "ATCyY3LygdZK",
        "outputId": "0dde4fee-d291-492b-fe91-93df2dd8e6f9"
      },
      "source": [
        "TR.value"
      ],
      "execution_count": null,
      "outputs": [
        {
          "output_type": "execute_result",
          "data": {
            "text/plain": [
              "array([[192.69836536, 243.51301709,  62.37692546, 135.82169803,\n",
              "        108.0575924 ,  88.40787872,  72.19271061,  37.31080876,\n",
              "         23.40280952,  36.21818677],\n",
              "       [ 99.0130103 , 211.2538514 ,  54.11359866, 117.82884209,\n",
              "         93.74276103,  76.69612521,  62.62904667, 232.99999831,\n",
              "         20.30254363,  31.42021544],\n",
              "       [ 87.15536307, 185.95441149,  80.42230052, 175.11432831,\n",
              "        139.31818658, 113.98389568,  93.07774965,  48.10466449,\n",
              "         30.17314115,  46.69595178],\n",
              "       [ 58.36157284, 124.5200711 ,  53.85293313, 197.98066463,\n",
              "        157.51028158, 128.86785234,  52.99999961, 138.99999899,\n",
              "         34.11313388,  52.79348463],\n",
              "       [ 39.17105745,  83.57524817,  36.14495366, 132.88044958,\n",
              "        178.49063796, 146.03303941, 119.24865861,  61.63037636,\n",
              "        142.99999896,  59.82557258],\n",
              "       [456.99999668,   9.08450392, 421.99999693,  14.44390459,\n",
              "         19.40166341,  26.80049842,  21.88493439,  11.31062446,\n",
              "          7.09446934,  10.9794006 ],\n",
              "       [ 11.23407756,  23.96899122, 239.99999825,  38.10949327,\n",
              "         51.19028261,  70.71172529,  97.49044085,  50.38524209,\n",
              "        367.99999732,  48.90974425],\n",
              "       [ 21.43593657,  45.73564781,  19.77993406,  72.7173857 ,\n",
              "         97.67706654, 134.92626921, 186.02320074, 162.32172583,\n",
              "        101.81458301, 157.56824325],\n",
              "       [ 18.18836787,  38.80664526,  16.7832516 ,  61.70061924,\n",
              "         82.87888042, 114.48478665, 157.84047486, 137.72980043,\n",
              "        145.85773792, 225.72942847],\n",
              "       [ 15.74224503,  33.58760527,  14.52610045,  53.4026073 ,\n",
              "         71.73264021,  99.0879218 , 136.61277673, 119.20675303,\n",
              "        126.24157798, 329.85976495]])"
            ]
          },
          "metadata": {
            "tags": []
          },
          "execution_count": 193
        }
      ]
    },
    {
      "cell_type": "code",
      "metadata": {
        "colab": {
          "base_uri": "https://localhost:8080/"
        },
        "id": "CwCj7gMhSIK9",
        "outputId": "2c250c30-bb0b-454c-cc3c-a69ae37ec267"
      },
      "source": [
        "T_17 = np.random.randint(0,n,1)\n",
        "print(T_17)\n",
        "T_18 = np.random.randint(0,n,1)\n",
        "print(T_18)\n",
        "T9_value = np.random.randint(0,500,1)\n",
        "print(T9_value)\n",
        "T_19 = np.random.randint(0,n,1)\n",
        "print(T_19)\n",
        "T_20 = np.random.randint(0,n,1)\n",
        "print(T_20)\n",
        "T10_value = np.random.randint(0,500,1)\n",
        "print(T10_value)"
      ],
      "execution_count": null,
      "outputs": [
        {
          "output_type": "stream",
          "text": [
            "[0]\n",
            "[9]\n",
            "[331]\n",
            "[0]\n",
            "[3]\n",
            "[258]\n"
          ],
          "name": "stdout"
        }
      ]
    },
    {
      "cell_type": "code",
      "metadata": {
        "id": "cjXy_k-0Snwy"
      },
      "source": [
        "# ten constraints\n",
        "TR = cp.Variable((n, n))\n",
        "\n",
        "constraints = [riadok @ TR == O,\n",
        "               TR @ stlpec == D.T, \n",
        "               cp.sum(cp.multiply(d,TR))/cp.sum(O) == wanted_avg_length,\n",
        "               TR[T_1,T_2] == T1_value,\n",
        "               TR[T_3,T_4] == T2_value,\n",
        "               TR[T_5,T_6] == T3_value,\n",
        "               TR[T_7,T_8] == T4_value,\n",
        "               TR[T_9,T_10] == T5_value,\n",
        "               TR[T_11,T_12] == T6_value,\n",
        "               TR[T_13,T_14] == T7_value,\n",
        "               TR[T_15,T_16] == T8_value,\n",
        "               TR[T_17,T_18] == T9_value,\n",
        "               TR[T_19,T_20] == T10_value]\n",
        "               \n",
        "obj = cp.Maximize(cp.sum(cp.entr(TR)+TR))"
      ],
      "execution_count": null,
      "outputs": []
    },
    {
      "cell_type": "code",
      "metadata": {
        "colab": {
          "base_uri": "https://localhost:8080/",
          "height": 325
        },
        "id": "JgG666PqTBw0",
        "outputId": "de1fc8bd-d3c8-4b68-d81c-ceb4a183f446"
      },
      "source": [
        "start_time = time.time()\n",
        "prob = cp.Problem(obj, constraints)\n",
        "prob.solve(solver=cp.ECOS)  # Returns the optimal value.\n",
        "end_time = time.time()\n",
        "print(end_time-start_time)\n",
        "print(\"status:\", prob.status)\n",
        "print(\"optimal value\", prob.value)\n",
        "image = plt.imshow(TR.value)\n",
        "cbar = plt.colorbar(image, extend='neither', spacing='proportional',\n",
        "                orientation='vertical', shrink=1, format=\"%.0f\")\n",
        "plt.xticks( fontsize=20)\n",
        "plt.yticks( fontsize=20)\n",
        "cbar.ax.tick_params(labelsize=20) \n",
        "time_equal.append(end_time-start_time)\n",
        "entropy_equal.append(prob.value)"
      ],
      "execution_count": null,
      "outputs": [
        {
          "output_type": "stream",
          "text": [
            "0.05578255653381348\n",
            "status: optimal\n",
            "optimal value -39977.1072463408\n"
          ],
          "name": "stdout"
        },
        {
          "output_type": "display_data",
          "data": {
            "image/png": "[encoded data removed]",
            "text/plain": [
              "<Figure size 432x288 with 2 Axes>"
            ]
          },
          "metadata": {
            "tags": [],
            "needs_background": "light"
          }
        }
      ]
    },
    {
      "cell_type": "code",
      "metadata": {
        "colab": {
          "base_uri": "https://localhost:8080/"
        },
        "id": "izigegFCgotc",
        "outputId": "78a81fd0-a49b-4007-a58a-db5d7b2618fa"
      },
      "source": [
        "TR.value"
      ],
      "execution_count": null,
      "outputs": [
        {
          "output_type": "execute_result",
          "data": {
            "text/plain": [
              "array([[134.61577603, 137.78163847,  30.02813271, 257.99999933,\n",
              "         41.78624715,  31.00993763,  21.57627202,   9.15764045,\n",
              "          5.04435449, 330.99999914],\n",
              "       [131.69187955, 275.25628787,  59.98936016,  91.73364611,\n",
              "         83.47939097,  61.95078246,  43.1044703 , 232.9999994 ,\n",
              "         10.07746974,   9.71671085],\n",
              "       [111.64298675, 233.35101757, 103.85551098, 158.81224049,\n",
              "        144.52220834, 107.2511884 ,  74.62384621,  31.67267767,\n",
              "         17.44643922,  16.82188177],\n",
              "       [ 66.46110893, 138.91394208,  61.8252219 , 193.06474524,\n",
              "        175.69264968, 130.38304415,  52.99999986, 138.99999964,\n",
              "         21.20927367,  20.45001225],\n",
              "       [ 40.94807291,  85.5877718 ,  38.09180639, 118.95120899,\n",
              "        221.05601847, 164.04759486, 114.14197524,  48.44539878,\n",
              "        142.99999963,  25.73015034],\n",
              "       [456.99999882,   8.63251319, 421.99999891,  11.99760052,\n",
              "         22.29604626,  33.78922622,  23.51006142,   9.97840067,\n",
              "          5.49645834,   5.29969305],\n",
              "       [ 10.11517917,  21.14227912, 239.99999938,  29.38386654,\n",
              "         54.60625913,  82.75472813, 117.58480391,  49.90664217,\n",
              "        367.99999905,  26.50624081],\n",
              "       [ 18.83013332,  39.35787553,  17.51666843,  54.70018412,\n",
              "        101.65348474, 154.0538874 , 218.89258237, 189.72347153,\n",
              "        104.50644503, 100.76526493],\n",
              "       [ 15.51185014,  32.42215134,  14.4298464 ,  45.06080737,\n",
              "         83.73990265, 126.90620067, 180.31889003, 156.29001874,\n",
              "        175.80698334, 169.51334672],\n",
              "       [ 13.1830118 ,  27.55452044,  12.26345216,  38.29569867,\n",
              "         71.16779003, 107.85340748, 153.24709604, 132.82574836,\n",
              "        149.41257489, 294.19669753]])"
            ]
          },
          "metadata": {
            "tags": []
          },
          "execution_count": 197
        }
      ]
    },
    {
      "cell_type": "markdown",
      "metadata": {
        "id": "jO8oGKlRnjBW"
      },
      "source": [
        "### 2. approach - square of constraints in objective function"
      ]
    },
    {
      "cell_type": "code",
      "metadata": {
        "id": "NjguLSDlkPyO"
      },
      "source": [
        "time_obj = [time_equal[0]]\n",
        "entropy_obj = [entropy_equal[0]]"
      ],
      "execution_count": null,
      "outputs": []
    },
    {
      "cell_type": "code",
      "metadata": {
        "id": "YOIl3kXTcpLO"
      },
      "source": [
        "TR = cp.Variable((n, n))\n",
        "\n",
        "constraints = [riadok @ TR == O,\n",
        "               TR @ stlpec == D.T, \n",
        "               cp.sum(cp.multiply(d,TR))/cp.sum(O) == wanted_avg_length]            \n",
        "obj = cp.Maximize(cp.sum(cp.entr(TR)+TR)-(TR[T_1,T_2] - T1_value)**2)"
      ],
      "execution_count": null,
      "outputs": []
    },
    {
      "cell_type": "code",
      "metadata": {
        "colab": {
          "base_uri": "https://localhost:8080/",
          "height": 315
        },
        "id": "cbrxOFETd_lx",
        "outputId": "c8a107c8-b773-48b1-cf8b-b4cf4263a629"
      },
      "source": [
        "# one constraint\n",
        "start_time = time.time()\n",
        "prob = cp.Problem(obj, constraints)\n",
        "prob.solve(solver=cp.ECOS)  # Returns the optimal value.\n",
        "end_time = time.time()\n",
        "print(end_time-start_time)\n",
        "print(\"status:\", prob.status)\n",
        "print(\"optimal value\", prob.value)\n",
        "plt.imshow(TR.value)\n",
        "time_obj.append(end_time-start_time)\n",
        "entropy_obj.append(prob.value)"
      ],
      "execution_count": null,
      "outputs": [
        {
          "output_type": "stream",
          "text": [
            "0.04141664505004883\n",
            "status: optimal\n",
            "optimal value -36746.57458761445\n"
          ],
          "name": "stdout"
        },
        {
          "output_type": "display_data",
          "data": {
            "image/png": "[encoded data removed]",
            "text/plain": [
              "<Figure size 432x288 with 1 Axes>"
            ]
          },
          "metadata": {
            "tags": [],
            "needs_background": "light"
          }
        }
      ]
    },
    {
      "cell_type": "code",
      "metadata": {
        "colab": {
          "base_uri": "https://localhost:8080/"
        },
        "id": "RDOsuSOei0bY",
        "outputId": "67acebee-70fd-4b87-b81f-f837ba3eda06"
      },
      "source": [
        "TR.value"
      ],
      "execution_count": null,
      "outputs": [
        {
          "output_type": "execute_result",
          "data": {
            "text/plain": [
              "array([[218.79732506, 165.73882168, 130.5704083 , 105.66658283,\n",
              "         87.47262143,  73.7394029 ,  65.78885612,  55.4863248 ,\n",
              "         49.95849366,  46.78116039],\n",
              "       [165.73882181, 176.99562868, 139.43861754, 112.84335211,\n",
              "         93.41367603,  78.74771044,  70.25716944,  59.25490149,\n",
              "         53.35162596,  49.95849366],\n",
              "       [130.57040842, 139.43861756, 154.86728649, 125.32929585,\n",
              "        103.74975594,  87.46102377,  78.03101743,  65.81136541,\n",
              "         59.25490149,  55.4863248 ],\n",
              "       [109.81332082, 117.27173254, 130.24766976, 148.60005419,\n",
              "        123.01369171, 103.70051782,  53.27596733,  78.03101743,\n",
              "         70.25716944,  65.78885612],\n",
              "       [ 87.30642636,  93.23619309, 103.55263478, 118.14358885,\n",
              "        137.87982978, 116.23266938, 103.70051782,  87.46102377,\n",
              "         78.74771044,  73.7394029 ],\n",
              "       [ 73.46198272,  78.45144803,  87.13198037,  99.40920277,\n",
              "        116.01580838, 137.87982978, 123.01369171, 103.74975594,\n",
              "         93.41367603,  87.47262143],\n",
              "       [ 62.9465695 ,  67.22183823,  74.65983147,  85.17968137,\n",
              "         99.40920277, 118.14358885, 148.60005419, 125.32929585,\n",
              "        112.84335211, 105.66658283],\n",
              "       [ 55.17255021,  58.91981554,  65.4392027 ,  74.65983147,\n",
              "         87.13198037, 103.55263478, 130.24766976, 154.86728649,\n",
              "        139.43861754, 130.5704083 ],\n",
              "       [ 49.67597884,  53.04992299,  58.91981554,  67.22183823,\n",
              "         78.45144803,  93.23619309, 117.27173254, 139.43861756,\n",
              "        176.99562868, 165.73882168],\n",
              "       [ 46.51661341,  49.67597884,  55.17255021,  62.9465695 ,\n",
              "         73.46198272,  87.30642636, 109.81332082, 130.57040842,\n",
              "        165.73882181, 218.79732506]])"
            ]
          },
          "metadata": {
            "tags": []
          },
          "execution_count": 201
        }
      ]
    },
    {
      "cell_type": "code",
      "metadata": {
        "colab": {
          "base_uri": "https://localhost:8080/"
        },
        "id": "80qj9tkBfPK-",
        "outputId": "a301c5cc-fa8f-488c-dfe2-4c945f778099"
      },
      "source": [
        "TR.value[T_1,T_2]-T1_value"
      ],
      "execution_count": null,
      "outputs": [
        {
          "output_type": "execute_result",
          "data": {
            "text/plain": [
              "array([0.27596733])"
            ]
          },
          "metadata": {
            "tags": []
          },
          "execution_count": 202
        }
      ]
    },
    {
      "cell_type": "code",
      "metadata": {
        "id": "2iC-t36OgFEs"
      },
      "source": [
        "# two constraints\n",
        "TR = cp.Variable((n, n))\n",
        "\n",
        "constraints = [riadok @ TR == O,\n",
        "               TR @ stlpec == D.T, \n",
        "               cp.sum(cp.multiply(d,TR))/cp.sum(O) == wanted_avg_length]            \n",
        "obj = cp.Maximize(cp.sum(cp.entr(TR)+TR)-(TR[T_1,T_2] - T1_value)**2-(TR[T_3,T_4]-T2_value)**2)"
      ],
      "execution_count": null,
      "outputs": []
    },
    {
      "cell_type": "code",
      "metadata": {
        "colab": {
          "base_uri": "https://localhost:8080/",
          "height": 315
        },
        "id": "_1ec5EPSk0IZ",
        "outputId": "7f95e700-5b35-492b-df87-4b75e426457f"
      },
      "source": [
        "start_time = time.time()\n",
        "prob = cp.Problem(obj, constraints)\n",
        "prob.solve(solver=cp.ECOS)  # Returns the optimal value.\n",
        "end_time = time.time()\n",
        "print(end_time-start_time)\n",
        "print(\"status:\", prob.status)\n",
        "print(\"optimal value\", prob.value)\n",
        "plt.imshow(TR.value)\n",
        "time_obj.append(end_time-start_time)\n",
        "entropy_obj.append(prob.value)"
      ],
      "execution_count": null,
      "outputs": [
        {
          "output_type": "stream",
          "text": [
            "0.16067218780517578\n",
            "status: optimal\n",
            "optimal value -36772.59897608441\n"
          ],
          "name": "stdout"
        },
        {
          "output_type": "display_data",
          "data": {
            "image/png": "[encoded data removed]",
            "text/plain": [
              "<Figure size 432x288 with 1 Axes>"
            ]
          },
          "metadata": {
            "tags": [],
            "needs_background": "light"
          }
        }
      ]
    },
    {
      "cell_type": "code",
      "metadata": {
        "colab": {
          "base_uri": "https://localhost:8080/"
        },
        "id": "t3Y5Y0xgjJ7B",
        "outputId": "3e66f9ee-c97e-4ae6-f997-006da348b3a9"
      },
      "source": [
        "TR.value"
      ],
      "execution_count": null,
      "outputs": [
        {
          "output_type": "execute_result",
          "data": {
            "text/plain": [
              "array([[221.86903714, 167.42270984, 131.50885624, 106.17004168,\n",
              "         87.72284473,  73.57420804,  65.34527453,  54.87496338,\n",
              "         45.51650036,  45.99556085],\n",
              "       [167.42270952, 179.13738969, 140.71061423, 113.59882596,\n",
              "         93.86086701,  78.72224171,  69.91752659,  58.7146013 ,\n",
              "         48.70132149,  49.21389928],\n",
              "       [131.50885597, 140.71061411, 156.71899635, 126.52275095,\n",
              "        104.53924147,  87.67832327,  77.87191228,  65.39445124,\n",
              "         54.24197974,  54.81287141],\n",
              "       [110.3505096 , 118.07180609, 131.50461358, 150.53661109,\n",
              "        124.38065899, 104.31955958,  53.27667528,  77.80623664,\n",
              "         64.53703951,  65.21628645],\n",
              "       [ 80.94011122,  86.60354136,  96.45626365, 110.41589075,\n",
              "        129.35894365, 108.49490691,  96.36025819,  80.92039906,\n",
              "        142.62313846,  67.82654355],\n",
              "       [ 73.55994825,  78.7069845 ,  87.66133035, 100.34811123,\n",
              "        117.56392648, 139.81093353, 124.17373336, 104.27730531,\n",
              "         86.49369101,  87.40403278],\n",
              "       [ 62.97116939,  67.37730291,  75.04269222,  85.90324146,\n",
              "        100.64088143, 119.68548519, 150.72463796, 126.57394334,\n",
              "        104.98782566, 106.09281723],\n",
              "       [ 55.18387903,  59.04513222,  65.76258611,  75.28007259,\n",
              "         88.19519186, 104.88465699, 132.085373  , 157.27835175,\n",
              "        130.45585643, 131.8288968 ],\n",
              "       [ 49.73240601,  53.21221577,  59.26606933,  67.84334779,\n",
              "         79.4826157 ,  94.52337154, 119.0369989 , 141.74122802,\n",
              "        166.70360184, 168.45814189],\n",
              "       [ 46.46137067,  49.71230031,  55.36797474,  63.38110328,\n",
              "         74.25482547,  88.30631003, 111.2076067 , 132.41851676,\n",
              "        155.73904229, 223.15094655]])"
            ]
          },
          "metadata": {
            "tags": []
          },
          "execution_count": 205
        }
      ]
    },
    {
      "cell_type": "code",
      "metadata": {
        "colab": {
          "base_uri": "https://localhost:8080/"
        },
        "id": "4uXxw-DdlLWj",
        "outputId": "e5705823-44f5-461e-9ca5-da17bae62366"
      },
      "source": [
        "print(TR.value[T_1,T_2]-T1_value)\n",
        "print(TR.value[T_3,T_4]-T2_value)"
      ],
      "execution_count": null,
      "outputs": [
        {
          "output_type": "stream",
          "text": [
            "[0.27667528]\n",
            "[-0.37686154]\n"
          ],
          "name": "stdout"
        }
      ]
    },
    {
      "cell_type": "code",
      "metadata": {
        "id": "dlL6YlC7lT8M"
      },
      "source": [
        "# four constraints\n",
        "TR = cp.Variable((n, n))\n",
        "\n",
        "constraints = [riadok @ TR == O,\n",
        "               TR @ stlpec == D.T, \n",
        "               cp.sum(cp.multiply(d,TR))/cp.sum(O) == wanted_avg_length]            \n",
        "obj = cp.Maximize(cp.sum(cp.entr(TR)+TR)-(TR[T_1,T_2] - T1_value)**2-(TR[T_3,T_4]-T2_value)**2-(TR[T_5,T_6]-T3_value)**2-(TR[T_7, T_8]-T4_value)**2)"
      ],
      "execution_count": null,
      "outputs": []
    },
    {
      "cell_type": "code",
      "metadata": {
        "colab": {
          "base_uri": "https://localhost:8080/",
          "height": 315
        },
        "id": "eKbbDbdhnKbp",
        "outputId": "11fd501c-4cf2-4325-9ef1-8cd7b64eae99"
      },
      "source": [
        "start_time = time.time()\n",
        "prob = cp.Problem(obj, constraints)\n",
        "prob.solve(solver=cp.ECOS)  # Returns the optimal value.\n",
        "end_time = time.time()\n",
        "print(end_time-start_time)\n",
        "print(\"status:\", prob.status)\n",
        "print(\"optimal value\", prob.value)\n",
        "plt.imshow(TR.value)\n",
        "time_obj.append(end_time-start_time)\n",
        "entropy_obj.append(prob.value)"
      ],
      "execution_count": null,
      "outputs": [
        {
          "output_type": "stream",
          "text": [
            "0.05395030975341797\n",
            "status: optimal\n",
            "optimal value -37256.74701432269\n"
          ],
          "name": "stdout"
        },
        {
          "output_type": "display_data",
          "data": {
            "image/png": "[encoded data removed]",
            "text/plain": [
              "<Figure size 432x288 with 1 Axes>"
            ]
          },
          "metadata": {
            "tags": [],
            "needs_background": "light"
          }
        }
      ]
    },
    {
      "cell_type": "code",
      "metadata": {
        "colab": {
          "base_uri": "https://localhost:8080/"
        },
        "id": "g54cW9YNjVAe",
        "outputId": "ab322985-9a46-4a21-ca44-958c55a77135"
      },
      "source": [
        "TR.value"
      ],
      "execution_count": null,
      "outputs": [
        {
          "output_type": "execute_result",
          "data": {
            "text/plain": [
              "array([[243.33514252, 179.76798088, 137.21666842, 108.18193315,\n",
              "         87.62699086,  72.10808265,  63.19852059,  41.28634299,\n",
              "         25.96981357,  41.30852002],\n",
              "       [144.51744241, 156.65830449, 119.57708218,  94.2748433 ,\n",
              "         76.3622963 ,  62.83838712,  55.07417417, 232.06794975,\n",
              "         22.63132156,  35.99819437],\n",
              "       [139.11283975, 150.79966296, 168.89646098, 133.1583536 ,\n",
              "        107.85780485,  88.75598066,  77.78943034,  50.8182956 ,\n",
              "         31.96557418,  50.84559274],\n",
              "       [115.6509893 , 125.36679029, 140.41150218, 162.4337241 ,\n",
              "        131.57075348, 108.26932059,  53.28850772,  61.99089115,\n",
              "         38.99332718,  62.02418968],\n",
              "       [ 81.50077142,  88.34762401,  98.94983012, 114.4691792 ,\n",
              "        136.04963395, 111.95498274,  98.12199995,  64.10116099,\n",
              "        142.36922023,  64.13559305],\n",
              "       [ 75.82200667,  82.19178814,  92.05525971, 106.49326035,\n",
              "        126.57004435, 152.82789471, 133.94471876,  87.50343432,\n",
              "         55.04115166,  87.55043699],\n",
              "       [ 44.06021468,  47.7616986 ,  53.49336798,  61.883299  ,\n",
              "         73.5499305 ,  88.80838345, 114.20959132,  74.61086608,\n",
              "        366.97170058,  74.65094347],\n",
              "       [ 57.09904377,  61.89591537,  69.32376936,  80.19654979,\n",
              "         95.31571133, 115.08962937, 148.00786847, 141.87633348,\n",
              "         89.24263199, 141.95254272],\n",
              "       [ 51.53144415,  55.86058357,  62.56416418,  72.37676418,\n",
              "         86.02169021, 103.86749787, 133.57595334, 128.04229057,\n",
              "        118.17932283, 187.98028475],\n",
              "       [ 47.37010098,  51.34964735,  57.51189053,  66.53208899,\n",
              "         79.07513983,  95.47983651, 122.78923099, 117.70243071,\n",
              "        108.63593189, 253.55369787]])"
            ]
          },
          "metadata": {
            "tags": []
          },
          "execution_count": 209
        }
      ]
    },
    {
      "cell_type": "code",
      "metadata": {
        "colab": {
          "base_uri": "https://localhost:8080/"
        },
        "id": "V0n7_KrvnNIh",
        "outputId": "5e1d142c-a3e6-4250-a497-95c0554fa1fe"
      },
      "source": [
        "print(TR.value[T_1,T_2]-T1_value)\n",
        "print(TR.value[T_3,T_4]-T2_value)\n",
        "print(TR.value[T_5,T_6]-T3_value)\n",
        "print(TR.value[T_7,T_8]-T4_value)"
      ],
      "execution_count": null,
      "outputs": [
        {
          "output_type": "stream",
          "text": [
            "[0.28850772]\n",
            "[-0.63077977]\n",
            "[-0.93205025]\n",
            "[-1.02829942]\n"
          ],
          "name": "stdout"
        }
      ]
    },
    {
      "cell_type": "code",
      "metadata": {
        "id": "LqFCW3OcneS0"
      },
      "source": [
        "# eight constraints\n",
        "TR = cp.Variable((n, n))\n",
        "\n",
        "constraints = [riadok @ TR == O,\n",
        "               TR @ stlpec == D.T, \n",
        "               cp.sum(cp.multiply(d,TR))/cp.sum(O) == wanted_avg_length]            \n",
        "obj = cp.Maximize(cp.sum(cp.entr(TR)+TR)-(TR[T_1,T_2] - T1_value)**2-(TR[T_3,T_4]-T2_value)**2-(TR[T_5,T_6]-T3_value)**2-(TR[T_7, T_8]-T4_value)**2-\\\n",
        "                  (TR[T_9,T_10] - T5_value)**2-(TR[T_11,T_12]-T6_value)**2-(TR[T_13,T_14]-T7_value)**2-(TR[T_15, T_16]-T8_value)**2)"
      ],
      "execution_count": null,
      "outputs": []
    },
    {
      "cell_type": "code",
      "metadata": {
        "colab": {
          "base_uri": "https://localhost:8080/",
          "height": 315
        },
        "id": "dMo9FE7MoZAZ",
        "outputId": "4104cb54-2a76-477c-ef68-1fc6aa9034a4"
      },
      "source": [
        "start_time = time.time()\n",
        "prob = cp.Problem(obj, constraints)\n",
        "prob.solve(solver=cp.ECOS)  # Returns the optimal value.\n",
        "end_time = time.time()\n",
        "print(end_time-start_time)\n",
        "print(\"status:\", prob.status)\n",
        "print(\"optimal value\", prob.value)\n",
        "plt.imshow(TR.value)\n",
        "time_obj.append(end_time-start_time)\n",
        "entropy_obj.append(prob.value)"
      ],
      "execution_count": null,
      "outputs": [
        {
          "output_type": "stream",
          "text": [
            "0.08043789863586426\n",
            "status: optimal\n",
            "optimal value -39158.66330201077\n"
          ],
          "name": "stdout"
        },
        {
          "output_type": "display_data",
          "data": {
            "image/png": "[encoded data removed]",
            "text/plain": [
              "<Figure size 432x288 with 1 Axes>"
            ]
          },
          "metadata": {
            "tags": [],
            "needs_background": "light"
          }
        }
      ]
    },
    {
      "cell_type": "code",
      "metadata": {
        "colab": {
          "base_uri": "https://localhost:8080/"
        },
        "id": "KxKzPvOKjimb",
        "outputId": "eeb4a667-a836-4346-f8de-64de950c2e2e"
      },
      "source": [
        "TR.value"
      ],
      "execution_count": null,
      "outputs": [
        {
          "output_type": "execute_result",
          "data": {
            "text/plain": [
              "array([[192.91695871, 242.84756773,  63.00799298, 135.58991245,\n",
              "        107.89468728,  88.28421106,  72.12656162,  37.44185546,\n",
              "         23.56040499,  36.32984045],\n",
              "       [ 99.42416219, 210.95251747,  54.73266553, 117.78183928,\n",
              "         93.72404281,  76.68916205,  62.65362182, 232.01758587,\n",
              "         20.46603452,  31.5583612 ],\n",
              "       [ 87.48336968, 185.61722789,  81.17262164, 174.67924473,\n",
              "        138.99973989, 113.73574246,  92.9199903 ,  48.23600026,\n",
              "         30.35265446,  46.80340144],\n",
              "       [ 58.68350068, 124.51130864,  54.45027575, 197.49733377,\n",
              "        157.15706515, 128.59287028,  53.33892269, 138.53388116,\n",
              "         34.31757579,  52.91725882],\n",
              "       [ 39.47546346,  83.75678805,  36.62783975, 132.85333237,\n",
              "        178.18639673, 145.80000056, 119.11589393,  61.83464159,\n",
              "        142.35147042,  59.99816588],\n",
              "       [454.68760248,   9.45988675, 419.69021428,  15.00508221,\n",
              "         20.12521428,  27.75574686,  22.67592915,  11.77137478,\n",
              "          7.40717443,  11.42176752],\n",
              "       [ 11.42074126,  24.23187777, 238.44321284,  38.43611736,\n",
              "         51.55153538,  71.09744548,  97.90290959,  50.82269986,\n",
              "        366.78017666,  49.31327653],\n",
              "       [ 21.63347325,  45.90066974,  20.07290911,  72.80672002,\n",
              "         97.65029512, 134.67467987, 185.45030581, 162.26284977,\n",
              "        102.10440686, 157.44368318],\n",
              "       [ 18.36581194,  38.96753247,  17.04096562,  61.80951678,\n",
              "         82.90055581, 114.33253529, 157.43867863, 137.75360753,\n",
              "        146.102547  , 225.28824166],\n",
              "       [ 15.90890908,  33.75461624,  14.76129525,  53.54089376,\n",
              "         71.81046028,  99.03759882, 136.37717919, 119.32549645,\n",
              "        126.55754761, 328.92599606]])"
            ]
          },
          "metadata": {
            "tags": []
          },
          "execution_count": 213
        }
      ]
    },
    {
      "cell_type": "code",
      "metadata": {
        "colab": {
          "base_uri": "https://localhost:8080/"
        },
        "id": "ejDVp8w_ochS",
        "outputId": "976f6f34-66ba-463b-97a5-b37945bbb148"
      },
      "source": [
        "print(TR.value[T_1,T_2]-T1_value)\n",
        "print(TR.value[T_3,T_4]-T2_value)\n",
        "print(TR.value[T_5,T_6]-T3_value)\n",
        "print(TR.value[T_7,T_8]-T4_value)\n",
        "print(TR.value[T_9,T_10]-T5_value)\n",
        "print(TR.value[T_11,T_12]-T6_value)\n",
        "print(TR.value[T_13,T_14]-T7_value)\n",
        "print(TR.value[T_15,T_16]-T8_value)"
      ],
      "execution_count": null,
      "outputs": [
        {
          "output_type": "stream",
          "text": [
            "[0.33892269]\n",
            "[-0.64852958]\n",
            "[-0.98241413]\n",
            "[-1.21982334]\n",
            "[-2.31239752]\n",
            "[-1.55678716]\n",
            "[-2.30978572]\n",
            "[-0.46611884]\n"
          ],
          "name": "stdout"
        }
      ]
    },
    {
      "cell_type": "code",
      "metadata": {
        "id": "tYRxSb_5oonN"
      },
      "source": [
        "# ten constraints\n",
        "TR = cp.Variable((n, n))\n",
        "\n",
        "constraints = [riadok @ TR == O,\n",
        "               TR @ stlpec == D.T, \n",
        "               cp.sum(cp.multiply(d,TR))/cp.sum(O) == wanted_avg_length]            \n",
        "obj = cp.Maximize(cp.sum(cp.entr(TR)+TR)-(TR[T_1,T_2] - T1_value)**2-(TR[T_3,T_4]-T2_value)**2-(TR[T_5,T_6]-T3_value)**2-(TR[T_7, T_8]-T4_value)**2-\\\n",
        "                  (TR[T_9,T_10] - T5_value)**2-(TR[T_11,T_12]-T6_value)**2-(TR[T_13,T_14]-T7_value)**2-(TR[T_15, T_16]-T8_value)**2 - (TR[T_17, T_18]-T9_value)**2 -\\\n",
        "                  (TR[T_19, T_20]-T10_value)**2)"
      ],
      "execution_count": null,
      "outputs": []
    },
    {
      "cell_type": "code",
      "metadata": {
        "colab": {
          "base_uri": "https://localhost:8080/",
          "height": 315
        },
        "id": "fuO9lyO4pAmm",
        "outputId": "d6b0ca39-dfde-4c3f-e0cd-800cf8d4ef65"
      },
      "source": [
        "start_time = time.time()\n",
        "prob = cp.Problem(obj, constraints)\n",
        "prob.solve(solver=cp.ECOS)  # Returns the optimal value.\n",
        "end_time = time.time()\n",
        "print(end_time-start_time)\n",
        "print(\"status:\", prob.status)\n",
        "print(\"optimal value\", prob.value)\n",
        "plt.imshow(TR.value)\n",
        "time_obj.append(end_time-start_time)\n",
        "entropy_obj.append(prob.value)"
      ],
      "execution_count": null,
      "outputs": [
        {
          "output_type": "stream",
          "text": [
            "0.0954427719116211\n",
            "status: optimal\n",
            "optimal value -39953.9852395677\n"
          ],
          "name": "stdout"
        },
        {
          "output_type": "display_data",
          "data": {
            "image/png": "[encoded data removed]",
            "text/plain": [
              "<Figure size 432x288 with 1 Axes>"
            ]
          },
          "metadata": {
            "tags": [],
            "needs_background": "light"
          }
        }
      ]
    },
    {
      "cell_type": "code",
      "metadata": {
        "colab": {
          "base_uri": "https://localhost:8080/"
        },
        "id": "f4y1U-ySjvyt",
        "outputId": "d51619dd-16ee-4b4f-af3d-5d596a1672be"
      },
      "source": [
        "TR.value"
      ],
      "execution_count": null,
      "outputs": [
        {
          "output_type": "execute_result",
          "data": {
            "text/plain": [
              "array([[135.10528963, 138.20433751,  30.5921317 , 257.1435529 ,\n",
              "         42.2010743 ,  31.36523319,  21.90482348,   9.37934064,\n",
              "          5.19599599, 328.90821464],\n",
              "       [131.86373427, 274.12315936,  60.67835385,  91.98151416,\n",
              "         83.70426009,  62.21177209,  43.44740139, 231.73886982,\n",
              "         10.30606488,   9.94486407],\n",
              "       [111.74751106, 232.30481798, 104.50024703, 158.41054225,\n",
              "        144.15545723, 107.14109941,  74.82510456,  32.039069  ,\n",
              "         17.74910274,  17.12704272],\n",
              "       [ 66.81214716, 138.89153802,  62.47911752, 192.47427317,\n",
              "        175.15385313, 130.18013158,  53.26730131, 138.36591256,\n",
              "         21.56577189,  20.80994762],\n",
              "       [ 41.31215638,  85.88122341,  38.63290119, 119.01319749,\n",
              "        220.09651621, 163.5830039 , 114.24295099,  48.91724253,\n",
              "        142.17123743,  26.14956446],\n",
              "       [454.67364226,   9.01309489, 419.68015975,  12.49024182,\n",
              "         23.09877204,  34.88871243,  24.36554749,  10.43298847,\n",
              "          5.77969912,   5.57713572],\n",
              "       [ 10.32141384,  21.45653311, 238.39661478,  29.7342136 ,\n",
              "         54.98883206,  83.05591171, 117.87801489,  50.47372631,\n",
              "        366.71312374,  26.98160994],\n",
              "       [ 19.06720972,  39.63761225,  17.83062628,  54.92934065,\n",
              "        101.58332661, 153.43289488, 217.76132512, 189.48914804,\n",
              "        104.97378402, 101.2947264 ],\n",
              "       [ 15.72015605,  32.67963469,  14.70064207,  45.28705662,\n",
              "         83.75141236, 126.49931933, 179.53555114, 156.22626567,\n",
              "        175.88208242, 169.71787361],\n",
              "       [ 13.37673361,  27.80804276,  12.50919981,  38.53606133,\n",
              "         71.26648994, 107.64191546, 152.77197359, 132.93743095,\n",
              "        149.66313173, 293.48901479]])"
            ]
          },
          "metadata": {
            "tags": []
          },
          "execution_count": 217
        }
      ]
    },
    {
      "cell_type": "code",
      "metadata": {
        "colab": {
          "base_uri": "https://localhost:8080/"
        },
        "id": "khLMFkfxpDnl",
        "outputId": "ee44cec4-18a7-40e8-8d4a-334bb3229fce"
      },
      "source": [
        "print(TR.value[T_1,T_2]-T1_value)\n",
        "print(TR.value[T_3,T_4]-T2_value)\n",
        "print(TR.value[T_5,T_6]-T3_value)\n",
        "print(TR.value[T_7,T_8]-T4_value)\n",
        "print(TR.value[T_9,T_10]-T5_value)\n",
        "print(TR.value[T_11,T_12]-T6_value)\n",
        "print(TR.value[T_13,T_14]-T7_value)\n",
        "print(TR.value[T_15,T_16]-T8_value)\n",
        "print(TR.value[T_17,T_18]-T9_value)\n",
        "print(TR.value[T_19,T_20]-T10_value)"
      ],
      "execution_count": null,
      "outputs": [
        {
          "output_type": "stream",
          "text": [
            "[0.26730131]\n",
            "[-0.82876257]\n",
            "[-1.26113018]\n",
            "[-1.28687626]\n",
            "[-2.32635774]\n",
            "[-1.60338522]\n",
            "[-2.31984025]\n",
            "[-0.63408744]\n",
            "[-2.09178536]\n",
            "[-0.8564471]\n"
          ],
          "name": "stdout"
        }
      ]
    },
    {
      "cell_type": "markdown",
      "metadata": {
        "id": "fj_l2BmEsP6e"
      },
      "source": [
        "### 3. approach - addition of absolute value of constraints in objective function"
      ]
    },
    {
      "cell_type": "code",
      "metadata": {
        "id": "oPGkaBn6lUp2"
      },
      "source": [
        "time_abs = [time_equal[0]]\n",
        "entropy_abs = [entropy_equal[0]]"
      ],
      "execution_count": null,
      "outputs": []
    },
    {
      "cell_type": "code",
      "metadata": {
        "colab": {
          "base_uri": "https://localhost:8080/",
          "height": 315
        },
        "id": "COw-NlHulTdA",
        "outputId": "850d747e-52d2-4663-d0fc-c16ef810ea87"
      },
      "source": [
        "# one constraint\n",
        "TR = cp.Variable((n, n))\n",
        "\n",
        "constraints = [riadok @ TR == O,\n",
        "               TR @ stlpec == D.T, \n",
        "               cp.sum(cp.multiply(d,TR))/cp.sum(O) == wanted_avg_length]            \n",
        "obj = cp.Maximize(cp.sum(cp.entr(TR)+TR)-cp.abs(TR[T_1,T_2] - T1_value))\n",
        "\n",
        "start_time = time.time()\n",
        "prob = cp.Problem(obj, constraints)\n",
        "prob.solve(solver=cp.ECOS)  # Returns the optimal value.\n",
        "end_time = time.time()\n",
        "print(end_time-start_time)\n",
        "print(\"status:\", prob.status)\n",
        "print(\"optimal value\", prob.value)\n",
        "plt.imshow(TR.value)\n",
        "time_abs.append(end_time-start_time)\n",
        "entropy_abs.append(prob.value)"
      ],
      "execution_count": null,
      "outputs": [
        {
          "output_type": "stream",
          "text": [
            "0.037568092346191406\n",
            "status: optimal\n",
            "optimal value -36746.65147270903\n"
          ],
          "name": "stdout"
        },
        {
          "output_type": "display_data",
          "data": {
            "image/png": "[encoded data removed]",
            "text/plain": [
              "<Figure size 432x288 with 1 Axes>"
            ]
          },
          "metadata": {
            "tags": [],
            "needs_background": "light"
          }
        }
      ]
    },
    {
      "cell_type": "code",
      "metadata": {
        "colab": {
          "base_uri": "https://localhost:8080/"
        },
        "id": "n8B-vIt8ln-M",
        "outputId": "89c27a73-2a00-4e8e-8d4b-1b91c41db9da"
      },
      "source": [
        "TR.value"
      ],
      "execution_count": null,
      "outputs": [
        {
          "output_type": "execute_result",
          "data": {
            "text/plain": [
              "array([[218.78681392, 165.73213921, 130.56581975, 105.66319294,\n",
              "         87.47129165,  73.73936848,  65.81082701,  55.48759417,\n",
              "         49.96006096,  46.78288602],\n",
              "       [165.73213914, 176.98753928, 139.43296781, 112.83911406,\n",
              "         93.41174521,  78.747239  ,  70.28024953,  59.25593224,\n",
              "         53.35300688,  49.96006096],\n",
              "       [130.5658194 , 139.43296806, 154.85971602, 125.32352714,\n",
              "        103.74673436,  87.45976038,  78.05599124,  65.81195111,\n",
              "         59.25593224,  55.48759417],\n",
              "       [109.84512928, 117.30505803, 130.28358164, 148.63946267,\n",
              "        123.0484024 , 103.7312911 ,  53.00000122,  78.05599124,\n",
              "         70.28024953,  65.81082701],\n",
              "       [ 87.30370196,  93.23277376, 103.5479626 , 118.13701025,\n",
              "        137.87260301, 116.22828358, 103.7312911 ,  87.45976038,\n",
              "         78.747239  ,  73.73936848],\n",
              "       [ 73.45961486,  78.44848614,  87.12795453,  99.40355977,\n",
              "        116.00960218, 137.87260301, 123.0484024 , 103.74673436,\n",
              "         93.41174521,  87.47129165],\n",
              "       [ 62.94433646,  67.21908524,  74.65613787,  85.17456771,\n",
              "         99.40355977, 118.13701025, 148.63946267, 125.32352714,\n",
              "        112.83911406, 105.66319294],\n",
              "       [ 55.17117375,  58.91802338,  65.43665676,  74.65613787,\n",
              "         87.12795453, 103.5479626 , 130.28358164, 154.85971602,\n",
              "        139.43296781, 130.56581975],\n",
              "       [ 49.67516148,  53.04875953,  58.91802338,  67.21908524,\n",
              "         78.44848614,  93.23277376, 117.30505803, 139.43296806,\n",
              "        176.98753928, 165.73213921],\n",
              "       [ 46.51610385,  49.67516148,  55.17117375,  62.94433646,\n",
              "         73.45961486,  87.30370196, 109.84512928, 130.5658194 ,\n",
              "        165.73213914, 218.78681392]])"
            ]
          },
          "metadata": {
            "tags": []
          },
          "execution_count": 221
        }
      ]
    },
    {
      "cell_type": "code",
      "metadata": {
        "colab": {
          "base_uri": "https://localhost:8080/",
          "height": 315
        },
        "id": "1-GkEa5ml00s",
        "outputId": "c83551ee-d865-49ed-94f1-685a13468ef6"
      },
      "source": [
        "# two constraints\n",
        "TR = cp.Variable((n, n))\n",
        "\n",
        "constraints = [riadok @ TR == O,\n",
        "               TR @ stlpec == D.T, \n",
        "               cp.sum(cp.multiply(d,TR))/cp.sum(O) == wanted_avg_length]            \n",
        "obj = cp.Maximize(cp.sum(cp.entr(TR)+TR)-cp.abs(TR[T_1,T_2] - T1_value) - cp.abs(TR[T_3,T_4]-T2_value))\n",
        "\n",
        "start_time = time.time()\n",
        "prob = cp.Problem(obj, constraints)\n",
        "prob.solve(solver=cp.ECOS)  # Returns the optimal value.\n",
        "end_time = time.time()\n",
        "print(end_time-start_time)\n",
        "print(\"status:\", prob.status)\n",
        "print(\"optimal value\", prob.value)\n",
        "plt.imshow(TR.value)\n",
        "time_abs.append(end_time-start_time)\n",
        "entropy_abs.append(prob.value)"
      ],
      "execution_count": null,
      "outputs": [
        {
          "output_type": "stream",
          "text": [
            "0.036431312561035156\n",
            "status: optimal\n",
            "optimal value -36772.81900637142\n"
          ],
          "name": "stdout"
        },
        {
          "output_type": "display_data",
          "data": {
            "image/png": "[encoded data removed]",
            "text/plain": [
              "<Figure size 432x288 with 1 Axes>"
            ]
          },
          "metadata": {
            "tags": [],
            "needs_background": "light"
          }
        }
      ]
    },
    {
      "cell_type": "code",
      "metadata": {
        "colab": {
          "base_uri": "https://localhost:8080/"
        },
        "id": "64xTJ7dumBTG",
        "outputId": "eed89850-1c54-4ff0-9847-4d3311c36eda"
      },
      "source": [
        "TR.value"
      ],
      "execution_count": null,
      "outputs": [
        {
          "output_type": "execute_result",
          "data": {
            "text/plain": [
              "array([[221.87647582, 167.42588885, 131.50974557, 106.16956531,\n",
              "         87.72298895,  73.57320875,  65.3645678 ,  54.87264984,\n",
              "         45.49222867,  45.99267585],\n",
              "       [167.42588889, 179.141817  , 140.71237264, 113.59896896,\n",
              "         93.8615626 ,  78.72162652,  69.93857358,  58.71246215,\n",
              "         48.67562807,  49.21109498],\n",
              "       [131.50974551, 140.71237246, 156.72220974, 126.5239222 ,\n",
              "        104.54085074,  87.6783395 ,  77.8959773 ,  65.39259351,\n",
              "         54.21379689,  54.81018756],\n",
              "       [110.38570101, 118.11013852, 131.54835466, 150.58803811,\n",
              "        124.42391014, 104.35425014,  53.00000093,  77.82988718,\n",
              "         64.52494738,  65.23476733],\n",
              "       [ 80.90012078,  86.56125062,  96.40993296, 110.36384657,\n",
              "        129.30137937, 108.44497536,  96.34565406,  80.8808437 ,\n",
              "        142.99999683,  67.79199516],\n",
              "       [ 73.55809822,  78.70545954,  87.66033325, 100.34786864,\n",
              "        117.56674065, 139.81497961, 124.21567147, 104.27734003,\n",
              "         86.45123938,  87.40226462],\n",
              "       [ 62.9690147 ,  67.37538574,  75.04115844,  85.90225609,\n",
              "        100.64237691, 119.68786167, 150.77722668, 126.57539498,\n",
              "        104.93746636, 106.09185384],\n",
              "       [ 55.18253168,  59.04402844,  65.76188442,  75.27994612,\n",
              "         88.19736704, 104.88776476, 132.13274784, 157.28487544,\n",
              "        130.39719324, 131.83165643],\n",
              "       [ 49.73190111,  53.21197942,  59.26628179,  67.84420146,\n",
              "         79.48571068,  94.52752337, 119.08139909, 141.74912969,\n",
              "        166.63438823, 168.46748056],\n",
              "       [ 46.46051768,  49.71167482,  55.36772195,  63.38138194,\n",
              "         74.25710832,  88.30946572, 111.24817666, 132.42481889,\n",
              "        155.67311036, 223.16601906]])"
            ]
          },
          "metadata": {
            "tags": []
          },
          "execution_count": 223
        }
      ]
    },
    {
      "cell_type": "code",
      "metadata": {
        "colab": {
          "base_uri": "https://localhost:8080/",
          "height": 315
        },
        "id": "EVnbsrKymNCH",
        "outputId": "0356ed58-75fb-4932-c6da-648fd16f7e24"
      },
      "source": [
        "# four constraints\n",
        "TR = cp.Variable((n, n))\n",
        "\n",
        "constraints = [riadok @ TR == O,\n",
        "               TR @ stlpec == D.T, \n",
        "               cp.sum(cp.multiply(d,TR))/cp.sum(O) == wanted_avg_length]            \n",
        "obj = cp.Maximize(cp.sum(cp.entr(TR)+TR)-cp.abs(TR[T_1,T_2] - T1_value) - cp.abs(TR[T_3,T_4]-T2_value)-cp.abs(TR[T_5,T_6]-T3_value)-\\\n",
        "                  cp.abs(TR[T_7,T_8]-T4_value))\n",
        "\n",
        "start_time = time.time()\n",
        "prob = cp.Problem(obj, constraints)\n",
        "prob.solve(solver=cp.ECOS)  # Returns the optimal value.\n",
        "end_time = time.time()\n",
        "print(end_time-start_time)\n",
        "print(\"status:\", prob.status)\n",
        "print(\"optimal value\", prob.value)\n",
        "plt.imshow(TR.value)\n",
        "time_abs.append(end_time-start_time)\n",
        "entropy_abs.append(prob.value)"
      ],
      "execution_count": null,
      "outputs": [
        {
          "output_type": "stream",
          "text": [
            "0.04315614700317383\n",
            "status: optimal\n",
            "optimal value -37127.726335746294\n"
          ],
          "name": "stdout"
        },
        {
          "output_type": "display_data",
          "data": {
            "image/png": "[encoded data removed]",
            "text/plain": [
              "<Figure size 432x288 with 1 Axes>"
            ]
          },
          "metadata": {
            "tags": [],
            "needs_background": "light"
          }
        }
      ]
    },
    {
      "cell_type": "code",
      "metadata": {
        "colab": {
          "base_uri": "https://localhost:8080/"
        },
        "id": "A-N7emcpnNGm",
        "outputId": "3151d2cb-92b7-4674-9150-de95b5c027d1"
      },
      "source": [
        "TR.value"
      ],
      "execution_count": null,
      "outputs": [
        {
          "output_type": "execute_result",
          "data": {
            "text/plain": [
              "array([[230.38250293, 172.41241506, 133.93325049, 107.1394681 ,\n",
              "         87.85024029,  73.14425568,  64.66871505,  49.14595353,\n",
              "         37.08281284,  44.24038342],\n",
              "       [158.05944634, 169.96499929, 132.03205161, 105.61860869,\n",
              "         86.60319444,  72.10596333,  63.75073414, 131.69619672,\n",
              "         36.55641745,  43.61238537],\n",
              "       [134.63847967, 144.77988722, 161.60251103, 129.27340437,\n",
              "        105.99921407,  88.25512118,  78.02861889,  59.29901211,\n",
              "         44.74374817,  53.38000067],\n",
              "       [112.62606385, 121.10942295, 135.18166957, 155.38134559,\n",
              "        127.40672354, 106.07904868,  53.0000006 ,  71.27498803,\n",
              "         53.78015616,  64.16057843],\n",
              "       [ 81.16737257,  87.2811624 ,  97.42275123, 111.98025677,\n",
              "        131.93344971, 109.84800889,  97.11944593,  73.80736993,\n",
              "        142.9999929 ,  66.44018704],\n",
              "       [ 74.5535866 ,  80.16920433,  89.48442287, 102.85573468,\n",
              "        121.18307593, 144.97704359, 128.17792919,  97.41072463,\n",
              "         73.50073453,  87.68754104],\n",
              "       [ 55.20668265,  59.36502908,  66.26291746,  76.16432935,\n",
              "         89.73566418, 107.35501689, 136.38177581, 103.64536312,\n",
              "        212.58335841,  93.29986044],\n",
              "       [ 56.00026912,  60.21839103,  67.21543533,  77.25917822,\n",
              "         91.02559848, 108.89822645, 138.34224404, 151.06655922,\n",
              "        113.98645211, 135.98764338],\n",
              "       [ 50.48670379,  54.2895261 ,  60.59766906,  69.65254471,\n",
              "         82.06357761,  98.17653705, 124.72161357, 136.19314322,\n",
              "        147.65907082, 176.15961145],\n",
              "       [ 46.87888985,  50.40995992,  56.26731874,  64.67512691,\n",
              "         76.19925913,  91.16077565, 115.80892018, 126.46068686,\n",
              "        137.10725398, 235.03180616]])"
            ]
          },
          "metadata": {
            "tags": []
          },
          "execution_count": 225
        }
      ]
    },
    {
      "cell_type": "code",
      "metadata": {
        "colab": {
          "base_uri": "https://localhost:8080/"
        },
        "id": "XKfBGAeAmfHm",
        "outputId": "703693f3-7117-4a65-a0ca-0769310386b4"
      },
      "source": [
        "print(TR.value[T_1,T_2]-T1_value)\n",
        "print(TR.value[T_3,T_4]-T2_value)\n",
        "print(TR.value[T_5,T_6]-T3_value)\n",
        "print(TR.value[T_7,T_8]-T4_value)"
      ],
      "execution_count": null,
      "outputs": [
        {
          "output_type": "stream",
          "text": [
            "[5.97174115e-07]\n",
            "[-7.09560149e-06]\n",
            "[-101.30380328]\n",
            "[-155.41664159]\n"
          ],
          "name": "stdout"
        }
      ]
    },
    {
      "cell_type": "code",
      "metadata": {
        "colab": {
          "base_uri": "https://localhost:8080/",
          "height": 315
        },
        "id": "4Jcw3UvSmtlk",
        "outputId": "e7b041be-161b-4efd-bfe5-e5258d18289e"
      },
      "source": [
        "# eight constraints\n",
        "TR = cp.Variable((n, n))\n",
        "\n",
        "constraints = [riadok @ TR == O,\n",
        "               TR @ stlpec == D.T, \n",
        "               cp.sum(cp.multiply(d,TR))/cp.sum(O) == wanted_avg_length]            \n",
        "obj = cp.Maximize(cp.sum(cp.entr(TR)+TR)-cp.abs(TR[T_1,T_2] - T1_value) - cp.abs(TR[T_3,T_4]-T2_value)-cp.abs(TR[T_5,T_6]-T3_value)-\\\n",
        "                  cp.abs(TR[T_7,T_8]-T4_value)-cp.abs(TR[T_9,T_10]-T5_value)-cp.abs(TR[T_11,T_12]-T6_value)-cp.abs(TR[T_13,T_14]-T7_value)-\\\n",
        "                  cp.abs(TR[T_15,T_16]-T8_value))\n",
        "\n",
        "start_time = time.time()\n",
        "prob = cp.Problem(obj, constraints)\n",
        "prob.solve(solver=cp.ECOS)  # Returns the optimal value.\n",
        "end_time = time.time()\n",
        "print(end_time-start_time)\n",
        "print(\"status:\", prob.status)\n",
        "print(\"optimal value\", prob.value)\n",
        "plt.imshow(TR.value)\n",
        "time_abs.append(end_time-start_time)\n",
        "entropy_abs.append(prob.value)"
      ],
      "execution_count": null,
      "outputs": [
        {
          "output_type": "stream",
          "text": [
            "0.06594276428222656\n",
            "status: optimal\n",
            "optimal value -37948.337065069565\n"
          ],
          "name": "stdout"
        },
        {
          "output_type": "display_data",
          "data": {
            "image/png": "[encoded data removed]",
            "text/plain": [
              "<Figure size 432x288 with 1 Axes>"
            ]
          },
          "metadata": {
            "tags": [],
            "needs_background": "light"
          }
        }
      ]
    },
    {
      "cell_type": "code",
      "metadata": {
        "colab": {
          "base_uri": "https://localhost:8080/"
        },
        "id": "0vGUKjVwnC76",
        "outputId": "a9bd843b-aa4b-44c8-8193-52c6a706f28c"
      },
      "source": [
        "TR.value"
      ],
      "execution_count": null,
      "outputs": [
        {
          "output_type": "execute_result",
          "data": {
            "text/plain": [
              "array([[228.32439018, 185.06418235, 115.7389197 , 112.83663694,\n",
              "         91.64154164,  75.73222575,  65.58307215,  45.25484916,\n",
              "         36.81574707,  43.00843096],\n",
              "       [153.79349322, 184.36053889, 115.29886361, 112.40761487,\n",
              "         91.29310594,  75.44427965,  65.33371468, 122.54770953,\n",
              "         36.67576767,  42.84490786],\n",
              "       [127.90147252, 153.3223845 , 141.81512916, 138.25895469,\n",
              "        112.28856164,  92.79484531,  80.3590673 ,  55.45085576,\n",
              "         45.11040731,  52.69831772],\n",
              "       [ 96.09059906, 115.18897625, 106.54373543, 153.62382314,\n",
              "        124.76731199, 103.1072377 ,  53.00000066, 138.9999965 ,\n",
              "         50.12357622,  58.55473897],\n",
              "       [ 73.64161323,  88.27816723,  81.65265467, 117.73374488,\n",
              "        141.41749968, 116.86689027, 101.20512914,  69.83544248,\n",
              "        142.99999181,  66.36886254],\n",
              "       [145.31478217,  64.08336673, 161.12272709,  85.46591967,\n",
              "        102.6585596 , 125.47102503, 108.65619235,  74.97696329,\n",
              "         60.99529647,  71.25516352],\n",
              "       [ 44.01855361,  52.76741073, 132.67138627,  70.37419404,\n",
              "         84.53092666, 103.31512575, 132.32286328,  91.30787853,\n",
              "        201.91623223,  86.77542482],\n",
              "       [ 48.40524927,  58.02597794,  53.67097311,  77.38737561,\n",
              "         92.95490585, 113.61105569, 145.5095768 , 148.49946461,\n",
              "        120.80735656, 141.12806048],\n",
              "       [ 43.00931273,  51.55757834,  47.6880442 ,  68.76067965,\n",
              "         82.59283188, 100.9463539 , 129.28901279, 131.94560526,\n",
              "        158.75351877, 185.4570584 ],\n",
              "       [ 39.50052993,  47.35141296,  43.79756268,  63.15105244,\n",
              "         75.85475105,  92.71095686, 118.74136678, 121.18123079,\n",
              "        145.80210179, 251.90903064]])"
            ]
          },
          "metadata": {
            "tags": []
          },
          "execution_count": 228
        }
      ]
    },
    {
      "cell_type": "code",
      "metadata": {
        "colab": {
          "base_uri": "https://localhost:8080/",
          "height": 315
        },
        "id": "7R7Nvd0fnxSr",
        "outputId": "ce4d9d3b-db6f-4fb1-cf6b-030c2e1fe76e"
      },
      "source": [
        "# ten constraints\n",
        "TR = cp.Variable((n, n))\n",
        "\n",
        "constraints = [riadok @ TR == O,\n",
        "               TR @ stlpec == D.T, \n",
        "               cp.sum(cp.multiply(d,TR))/cp.sum(O) == wanted_avg_length]            \n",
        "obj = cp.Maximize(cp.sum(cp.entr(TR)+TR)-cp.abs(TR[T_1,T_2] - T1_value) - cp.abs(TR[T_3,T_4]-T2_value)-cp.abs(TR[T_5,T_6]-T3_value)-\\\n",
        "                  cp.abs(TR[T_7,T_8]-T4_value)-cp.abs(TR[T_9,T_10]-T5_value)-cp.abs(TR[T_11,T_12]-T6_value)-cp.abs(TR[T_13,T_14]-T7_value)-\\\n",
        "                  cp.abs(TR[T_15,T_16]-T8_value)-cp.abs(TR[T_17,T_18]-T9_value)-cp.abs(TR[T_19,T_20]-T10_value))\n",
        "\n",
        "start_time = time.time()\n",
        "prob = cp.Problem(obj, constraints)\n",
        "prob.solve(solver=cp.ECOS)  # Returns the optimal value.\n",
        "end_time = time.time()\n",
        "print(end_time-start_time)\n",
        "print(\"status:\", prob.status)\n",
        "print(\"optimal value\", prob.value)\n",
        "plt.imshow(TR.value)\n",
        "time_abs.append(end_time-start_time)\n",
        "entropy_abs.append(prob.value)"
      ],
      "execution_count": null,
      "outputs": [
        {
          "output_type": "stream",
          "text": [
            "0.07408547401428223\n",
            "status: optimal\n",
            "optimal value -38313.72060953769\n"
          ],
          "name": "stdout"
        },
        {
          "output_type": "display_data",
          "data": {
            "image/png": "[encoded data removed]",
            "text/plain": [
              "<Figure size 432x288 with 1 Axes>"
            ]
          },
          "metadata": {
            "tags": [],
            "needs_background": "light"
          }
        }
      ]
    },
    {
      "cell_type": "code",
      "metadata": {
        "colab": {
          "base_uri": "https://localhost:8080/"
        },
        "id": "ytw-KaE0n8SV",
        "outputId": "20275580-28e3-4ad2-e334-3f8ce66a2a0d"
      },
      "source": [
        "TR.value"
      ],
      "execution_count": null,
      "outputs": [
        {
          "output_type": "execute_result",
          "data": {
            "text/plain": [
              "array([[198.16066933, 156.68952869,  95.78757006, 216.18060231,\n",
              "         73.78630147,  60.21091685,  51.52181707,  35.1788121 ,\n",
              "         28.19810258,  84.2856763 ],\n",
              "       [163.59328171, 194.92094488, 119.15923024,  98.93289989,\n",
              "         91.78976872,  74.90206201,  64.09286764, 118.95814776,\n",
              "         35.07829047,  38.57250343],\n",
              "       [134.99698675, 160.84854177, 148.16882187, 123.01834427,\n",
              "        114.13620256,  93.13714331,  79.69642578,  54.41627931,\n",
              "         43.61818196,  47.96306919],\n",
              "       [101.02446732, 120.37037657, 110.88155862, 138.72122042,\n",
              "        128.70530271, 105.02578497,  53.00000054, 138.99999721,\n",
              "         49.18589551,  54.0853929 ],\n",
              "       [ 76.44325925,  91.08193307,  83.90192968, 104.96766297,\n",
              "        146.7505011 , 119.75098414, 102.46959461,  69.96567387,\n",
              "        142.99999234,  61.66846571],\n",
              "       [148.80956822,  65.227302  , 163.32912061,  75.17141142,\n",
              "        105.09372097, 129.22507594, 110.57647258,  75.50100401,\n",
              "         60.5189582 ,  66.5473628 ],\n",
              "       [ 44.82261383,  53.40602103, 133.72864695,  61.5479386 ,\n",
              "         86.04736508, 105.80534387, 136.425031  ,  93.15025801,\n",
              "        202.96318125,  82.10359713],\n",
              "       [ 49.04851162,  58.44116646,  53.83424008,  67.35070795,\n",
              "         94.15995385, 115.78072581, 149.28725614, 153.59718082,\n",
              "        123.11811602, 135.382138  ],\n",
              "       [ 43.36656723,  51.67114542,  47.59790087,  59.54857568,\n",
              "         83.25214799, 102.36829756, 131.99331916, 135.80396731,\n",
              "        164.02940241, 180.36867313],\n",
              "       [ 39.7340715 ,  47.34303687,  43.61097777,  54.56063324,\n",
              "         76.2787323 ,  93.79366229, 120.93721223, 124.42867636,\n",
              "        150.28987602, 249.02311818]])"
            ]
          },
          "metadata": {
            "tags": []
          },
          "execution_count": 230
        }
      ]
    },
    {
      "cell_type": "markdown",
      "metadata": {
        "id": "9ORxMV4ZssYI"
      },
      "source": [
        "### Comparison of time and entropy of the 3 approaches"
      ]
    },
    {
      "cell_type": "code",
      "metadata": {
        "colab": {
          "base_uri": "https://localhost:8080/",
          "height": 282
        },
        "id": "hKPLCTfEpNfI",
        "outputId": "9e9fc1c3-2902-4fa5-f817-b0729ba4e401"
      },
      "source": [
        "plt.plot([0,1,2,4,8,10], time_equal, label = 'equations')\n",
        "plt.plot([0,1,2,4,8,10], time_obj, label = 'object function, squared')\n",
        "plt.plot([0,1,2,4,8,10], time_abs, label = 'object function, abs')\n",
        "plt.legend()"
      ],
      "execution_count": null,
      "outputs": [
        {
          "output_type": "execute_result",
          "data": {
            "text/plain": [
              "<matplotlib.legend.Legend at 0x7f6da58d25d0>"
            ]
          },
          "metadata": {
            "tags": []
          },
          "execution_count": 231
        },
        {
          "output_type": "display_data",
          "data": {
            "image/png": "[encoded data removed]",
            "text/plain": [
              "<Figure size 432x288 with 1 Axes>"
            ]
          },
          "metadata": {
            "tags": [],
            "needs_background": "light"
          }
        }
      ]
    },
    {
      "cell_type": "code",
      "metadata": {
        "colab": {
          "base_uri": "https://localhost:8080/"
        },
        "id": "6LG28eL7rPAN",
        "outputId": "a52815d1-296b-42e3-a5c0-85a6a729dff6"
      },
      "source": [
        "entropy_abs"
      ],
      "execution_count": null,
      "outputs": [
        {
          "output_type": "execute_result",
          "data": {
            "text/plain": [
              "[-36738.132568841305,\n",
              " -36746.65147270903,\n",
              " -36772.81900637142,\n",
              " -37127.726335746294,\n",
              " -37948.337065069565,\n",
              " -38313.72060953769]"
            ]
          },
          "metadata": {
            "tags": []
          },
          "execution_count": 240
        }
      ]
    },
    {
      "cell_type": "code",
      "metadata": {
        "colab": {
          "base_uri": "https://localhost:8080/",
          "height": 282
        },
        "id": "uOIJpepTpXek",
        "outputId": "7426e6a7-b502-4dff-d1e3-d94a21c7889a"
      },
      "source": [
        "plt.plot([0,1,2,4,8,10], entropy_equal, label = 'equations')\n",
        "plt.plot([0,1,2,4,8,10], entropy_obj, label = 'object function, squared')\n",
        "plt.plot([0,1,2,4,8,10], entropy_abs, label = 'object function, abs')\n",
        "plt.legend()"
      ],
      "execution_count": null,
      "outputs": [
        {
          "output_type": "execute_result",
          "data": {
            "text/plain": [
              "<matplotlib.legend.Legend at 0x7f6da59e95d0>"
            ]
          },
          "metadata": {
            "tags": []
          },
          "execution_count": 232
        },
        {
          "output_type": "display_data",
          "data": {
            "image/png": "[encoded data removed]",
            "text/plain": [
              "<Figure size 432x288 with 1 Axes>"
            ]
          },
          "metadata": {
            "tags": [],
            "needs_background": "light"
          }
        }
      ]
    }
  ]
}